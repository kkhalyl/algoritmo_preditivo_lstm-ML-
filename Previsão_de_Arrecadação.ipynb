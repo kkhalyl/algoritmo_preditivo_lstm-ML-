{
  "nbformat": 4,
  "nbformat_minor": 0,
  "metadata": {
    "colab": {
      "provenance": []
    },
    "kernelspec": {
      "name": "python3",
      "display_name": "Python 3"
    },
    "language_info": {
      "name": "python"
    }
  },
  "cells": [
    {
      "cell_type": "markdown",
      "source": [
        "##📘 O que é LSTM e por que foi usada aqui?\n",
        "\n",
        "Neste projeto, usamos um tipo de **inteligência artificial** chamada **rede neural LSTM (Long Short-Term Memory)** para tentar prever os valores futuros de arrecadação com base nos valores passados.\n",
        "\n",
        "Esse tipo de rede é muito bom para lidar com **informações que acontecem em sequência**, como uma linha do tempo. Imagine que você consegue entender uma música porque lembra das notas anteriores — a LSTM funciona de forma parecida: ela tenta “lembrar” dos meses anteriores para prever os próximos.\n",
        "\n",
        "Ao invés de olhar só o valor de um mês isolado, a LSTM aprende os **padrões e comportamentos da arrecadação** ao longo do tempo: se costuma subir, cair, repetir em certas épocas do ano, entre outros.\n",
        "\n",
        "Ela foi escolhida neste projeto justamente porque consegue usar o **histórico para fazer previsões** mais próximas da realidade. A ideia é ajudar a ter uma **visão antecipada** dos próximos meses, o que pode ser útil para planejamento e tomada de decisões.\n",
        "\n"
      ],
      "metadata": {
        "id": "0mg9pt_89Ana"
      }
    },
    {
      "cell_type": "markdown",
      "source": [
        "# Importar dados do Excel\n",
        "\n",
        "Realiza a leitura e importação dos dados da planilha."
      ],
      "metadata": {
        "id": "V6QgNjkvRQa_"
      }
    },
    {
      "cell_type": "code",
      "source": [
        "import pandas as pd\n",
        "\n",
        "dadosPrev = pd.read_excel(\"dadosPrev.xlsx\")\n",
        "dadosPrev.set_index(\"Mês\", inplace=True)\n",
        "dadosPrev = dadosPrev.dropna()\n",
        "dadosPrev.head()\n",
        "\n"
      ],
      "metadata": {
        "colab": {
          "base_uri": "https://localhost:8080/",
          "height": 238
        },
        "id": "rpHtuDLvRgqP",
        "outputId": "8fea161a-56c8-435c-91d6-a108ea012410"
      },
      "execution_count": 1,
      "outputs": [
        {
          "output_type": "execute_result",
          "data": {
            "text/plain": [
              "                 Valor\n",
              "Mês                   \n",
              "1998-01-01  83756020.0\n",
              "1998-02-01  82131307.0\n",
              "1998-03-01  69267693.0\n",
              "1998-04-01  81286029.0\n",
              "1998-05-01  87060196.0"
            ],
            "text/html": [
              "\n",
              "  <div id=\"df-17d36a0c-f1e3-4c80-81cd-4430d7a6e16d\" class=\"colab-df-container\">\n",
              "    <div>\n",
              "<style scoped>\n",
              "    .dataframe tbody tr th:only-of-type {\n",
              "        vertical-align: middle;\n",
              "    }\n",
              "\n",
              "    .dataframe tbody tr th {\n",
              "        vertical-align: top;\n",
              "    }\n",
              "\n",
              "    .dataframe thead th {\n",
              "        text-align: right;\n",
              "    }\n",
              "</style>\n",
              "<table border=\"1\" class=\"dataframe\">\n",
              "  <thead>\n",
              "    <tr style=\"text-align: right;\">\n",
              "      <th></th>\n",
              "      <th>Valor</th>\n",
              "    </tr>\n",
              "    <tr>\n",
              "      <th>Mês</th>\n",
              "      <th></th>\n",
              "    </tr>\n",
              "  </thead>\n",
              "  <tbody>\n",
              "    <tr>\n",
              "      <th>1998-01-01</th>\n",
              "      <td>83756020.0</td>\n",
              "    </tr>\n",
              "    <tr>\n",
              "      <th>1998-02-01</th>\n",
              "      <td>82131307.0</td>\n",
              "    </tr>\n",
              "    <tr>\n",
              "      <th>1998-03-01</th>\n",
              "      <td>69267693.0</td>\n",
              "    </tr>\n",
              "    <tr>\n",
              "      <th>1998-04-01</th>\n",
              "      <td>81286029.0</td>\n",
              "    </tr>\n",
              "    <tr>\n",
              "      <th>1998-05-01</th>\n",
              "      <td>87060196.0</td>\n",
              "    </tr>\n",
              "  </tbody>\n",
              "</table>\n",
              "</div>\n",
              "    <div class=\"colab-df-buttons\">\n",
              "\n",
              "  <div class=\"colab-df-container\">\n",
              "    <button class=\"colab-df-convert\" onclick=\"convertToInteractive('df-17d36a0c-f1e3-4c80-81cd-4430d7a6e16d')\"\n",
              "            title=\"Convert this dataframe to an interactive table.\"\n",
              "            style=\"display:none;\">\n",
              "\n",
              "  <svg xmlns=\"http://www.w3.org/2000/svg\" height=\"24px\" viewBox=\"0 -960 960 960\">\n",
              "    <path d=\"M120-120v-720h720v720H120Zm60-500h600v-160H180v160Zm220 220h160v-160H400v160Zm0 220h160v-160H400v160ZM180-400h160v-160H180v160Zm440 0h160v-160H620v160ZM180-180h160v-160H180v160Zm440 0h160v-160H620v160Z\"/>\n",
              "  </svg>\n",
              "    </button>\n",
              "\n",
              "  <style>\n",
              "    .colab-df-container {\n",
              "      display:flex;\n",
              "      gap: 12px;\n",
              "    }\n",
              "\n",
              "    .colab-df-convert {\n",
              "      background-color: #E8F0FE;\n",
              "      border: none;\n",
              "      border-radius: 50%;\n",
              "      cursor: pointer;\n",
              "      display: none;\n",
              "      fill: #1967D2;\n",
              "      height: 32px;\n",
              "      padding: 0 0 0 0;\n",
              "      width: 32px;\n",
              "    }\n",
              "\n",
              "    .colab-df-convert:hover {\n",
              "      background-color: #E2EBFA;\n",
              "      box-shadow: 0px 1px 2px rgba(60, 64, 67, 0.3), 0px 1px 3px 1px rgba(60, 64, 67, 0.15);\n",
              "      fill: #174EA6;\n",
              "    }\n",
              "\n",
              "    .colab-df-buttons div {\n",
              "      margin-bottom: 4px;\n",
              "    }\n",
              "\n",
              "    [theme=dark] .colab-df-convert {\n",
              "      background-color: #3B4455;\n",
              "      fill: #D2E3FC;\n",
              "    }\n",
              "\n",
              "    [theme=dark] .colab-df-convert:hover {\n",
              "      background-color: #434B5C;\n",
              "      box-shadow: 0px 1px 3px 1px rgba(0, 0, 0, 0.15);\n",
              "      filter: drop-shadow(0px 1px 2px rgba(0, 0, 0, 0.3));\n",
              "      fill: #FFFFFF;\n",
              "    }\n",
              "  </style>\n",
              "\n",
              "    <script>\n",
              "      const buttonEl =\n",
              "        document.querySelector('#df-17d36a0c-f1e3-4c80-81cd-4430d7a6e16d button.colab-df-convert');\n",
              "      buttonEl.style.display =\n",
              "        google.colab.kernel.accessAllowed ? 'block' : 'none';\n",
              "\n",
              "      async function convertToInteractive(key) {\n",
              "        const element = document.querySelector('#df-17d36a0c-f1e3-4c80-81cd-4430d7a6e16d');\n",
              "        const dataTable =\n",
              "          await google.colab.kernel.invokeFunction('convertToInteractive',\n",
              "                                                    [key], {});\n",
              "        if (!dataTable) return;\n",
              "\n",
              "        const docLinkHtml = 'Like what you see? Visit the ' +\n",
              "          '<a target=\"_blank\" href=https://colab.research.google.com/notebooks/data_table.ipynb>data table notebook</a>'\n",
              "          + ' to learn more about interactive tables.';\n",
              "        element.innerHTML = '';\n",
              "        dataTable['output_type'] = 'display_data';\n",
              "        await google.colab.output.renderOutput(dataTable, element);\n",
              "        const docLink = document.createElement('div');\n",
              "        docLink.innerHTML = docLinkHtml;\n",
              "        element.appendChild(docLink);\n",
              "      }\n",
              "    </script>\n",
              "  </div>\n",
              "\n",
              "\n",
              "    <div id=\"df-a9b77099-bfbc-4907-ba21-1bbfe30d52aa\">\n",
              "      <button class=\"colab-df-quickchart\" onclick=\"quickchart('df-a9b77099-bfbc-4907-ba21-1bbfe30d52aa')\"\n",
              "                title=\"Suggest charts\"\n",
              "                style=\"display:none;\">\n",
              "\n",
              "<svg xmlns=\"http://www.w3.org/2000/svg\" height=\"24px\"viewBox=\"0 0 24 24\"\n",
              "     width=\"24px\">\n",
              "    <g>\n",
              "        <path d=\"M19 3H5c-1.1 0-2 .9-2 2v14c0 1.1.9 2 2 2h14c1.1 0 2-.9 2-2V5c0-1.1-.9-2-2-2zM9 17H7v-7h2v7zm4 0h-2V7h2v10zm4 0h-2v-4h2v4z\"/>\n",
              "    </g>\n",
              "</svg>\n",
              "      </button>\n",
              "\n",
              "<style>\n",
              "  .colab-df-quickchart {\n",
              "      --bg-color: #E8F0FE;\n",
              "      --fill-color: #1967D2;\n",
              "      --hover-bg-color: #E2EBFA;\n",
              "      --hover-fill-color: #174EA6;\n",
              "      --disabled-fill-color: #AAA;\n",
              "      --disabled-bg-color: #DDD;\n",
              "  }\n",
              "\n",
              "  [theme=dark] .colab-df-quickchart {\n",
              "      --bg-color: #3B4455;\n",
              "      --fill-color: #D2E3FC;\n",
              "      --hover-bg-color: #434B5C;\n",
              "      --hover-fill-color: #FFFFFF;\n",
              "      --disabled-bg-color: #3B4455;\n",
              "      --disabled-fill-color: #666;\n",
              "  }\n",
              "\n",
              "  .colab-df-quickchart {\n",
              "    background-color: var(--bg-color);\n",
              "    border: none;\n",
              "    border-radius: 50%;\n",
              "    cursor: pointer;\n",
              "    display: none;\n",
              "    fill: var(--fill-color);\n",
              "    height: 32px;\n",
              "    padding: 0;\n",
              "    width: 32px;\n",
              "  }\n",
              "\n",
              "  .colab-df-quickchart:hover {\n",
              "    background-color: var(--hover-bg-color);\n",
              "    box-shadow: 0 1px 2px rgba(60, 64, 67, 0.3), 0 1px 3px 1px rgba(60, 64, 67, 0.15);\n",
              "    fill: var(--button-hover-fill-color);\n",
              "  }\n",
              "\n",
              "  .colab-df-quickchart-complete:disabled,\n",
              "  .colab-df-quickchart-complete:disabled:hover {\n",
              "    background-color: var(--disabled-bg-color);\n",
              "    fill: var(--disabled-fill-color);\n",
              "    box-shadow: none;\n",
              "  }\n",
              "\n",
              "  .colab-df-spinner {\n",
              "    border: 2px solid var(--fill-color);\n",
              "    border-color: transparent;\n",
              "    border-bottom-color: var(--fill-color);\n",
              "    animation:\n",
              "      spin 1s steps(1) infinite;\n",
              "  }\n",
              "\n",
              "  @keyframes spin {\n",
              "    0% {\n",
              "      border-color: transparent;\n",
              "      border-bottom-color: var(--fill-color);\n",
              "      border-left-color: var(--fill-color);\n",
              "    }\n",
              "    20% {\n",
              "      border-color: transparent;\n",
              "      border-left-color: var(--fill-color);\n",
              "      border-top-color: var(--fill-color);\n",
              "    }\n",
              "    30% {\n",
              "      border-color: transparent;\n",
              "      border-left-color: var(--fill-color);\n",
              "      border-top-color: var(--fill-color);\n",
              "      border-right-color: var(--fill-color);\n",
              "    }\n",
              "    40% {\n",
              "      border-color: transparent;\n",
              "      border-right-color: var(--fill-color);\n",
              "      border-top-color: var(--fill-color);\n",
              "    }\n",
              "    60% {\n",
              "      border-color: transparent;\n",
              "      border-right-color: var(--fill-color);\n",
              "    }\n",
              "    80% {\n",
              "      border-color: transparent;\n",
              "      border-right-color: var(--fill-color);\n",
              "      border-bottom-color: var(--fill-color);\n",
              "    }\n",
              "    90% {\n",
              "      border-color: transparent;\n",
              "      border-bottom-color: var(--fill-color);\n",
              "    }\n",
              "  }\n",
              "</style>\n",
              "\n",
              "      <script>\n",
              "        async function quickchart(key) {\n",
              "          const quickchartButtonEl =\n",
              "            document.querySelector('#' + key + ' button');\n",
              "          quickchartButtonEl.disabled = true;  // To prevent multiple clicks.\n",
              "          quickchartButtonEl.classList.add('colab-df-spinner');\n",
              "          try {\n",
              "            const charts = await google.colab.kernel.invokeFunction(\n",
              "                'suggestCharts', [key], {});\n",
              "          } catch (error) {\n",
              "            console.error('Error during call to suggestCharts:', error);\n",
              "          }\n",
              "          quickchartButtonEl.classList.remove('colab-df-spinner');\n",
              "          quickchartButtonEl.classList.add('colab-df-quickchart-complete');\n",
              "        }\n",
              "        (() => {\n",
              "          let quickchartButtonEl =\n",
              "            document.querySelector('#df-a9b77099-bfbc-4907-ba21-1bbfe30d52aa button');\n",
              "          quickchartButtonEl.style.display =\n",
              "            google.colab.kernel.accessAllowed ? 'block' : 'none';\n",
              "        })();\n",
              "      </script>\n",
              "    </div>\n",
              "\n",
              "    </div>\n",
              "  </div>\n"
            ],
            "application/vnd.google.colaboratory.intrinsic+json": {
              "type": "dataframe",
              "variable_name": "dadosPrev",
              "summary": "{\n  \"name\": \"dadosPrev\",\n  \"rows\": 324,\n  \"fields\": [\n    {\n      \"column\": \"M\\u00eas\",\n      \"properties\": {\n        \"dtype\": \"date\",\n        \"min\": \"1998-01-01 00:00:00\",\n        \"max\": \"2024-12-01 00:00:00\",\n        \"num_unique_values\": 324,\n        \"samples\": [\n          \"2009-01-01 00:00:00\",\n          \"2007-01-01 00:00:00\",\n          \"2009-06-01 00:00:00\"\n        ],\n        \"semantic_type\": \"\",\n        \"description\": \"\"\n      }\n    },\n    {\n      \"column\": \"Valor\",\n      \"properties\": {\n        \"dtype\": \"number\",\n        \"std\": 358127991.46362454,\n        \"min\": 65875076.0,\n        \"max\": 1619671966.07,\n        \"num_unique_values\": 324,\n        \"samples\": [\n          342603114.77,\n          288838864.88,\n          325520360.15\n        ],\n        \"semantic_type\": \"\",\n        \"description\": \"\"\n      }\n    }\n  ]\n}"
            }
          },
          "metadata": {},
          "execution_count": 1
        }
      ]
    },
    {
      "cell_type": "markdown",
      "source": [
        "# Visualização da série temporal\n",
        "\n",
        "Realiza a plotagem dos dados através do MatPlotLib."
      ],
      "metadata": {
        "id": "0yiM4NrlUu_1"
      }
    },
    {
      "cell_type": "code",
      "source": [
        "import matplotlib.pyplot as plt\n",
        "\n",
        "dadosPrev.plot(figsize=(10,5), title=\"Série temporal - Dados brutos\")\n",
        "plt.xlabel(\"Ano\")\n",
        "plt.ylabel(\"Valor em bilhões\")\n",
        "plt.grid(True)\n",
        "plt.show()"
      ],
      "metadata": {
        "colab": {
          "base_uri": "https://localhost:8080/",
          "height": 488
        },
        "id": "POWJxzxJU6r9",
        "outputId": "d9777f8f-5f8d-4d6b-c353-2f57ff995922"
      },
      "execution_count": 2,
      "outputs": [
        {
          "output_type": "display_data",
          "data": {
            "text/plain": [
              "<Figure size 1000x500 with 1 Axes>"
            ],
            "image/png": "[encoded data removed]"
          },
          "metadata": {}
        }
      ]
    },
    {
      "cell_type": "markdown",
      "source": [
        "# Pré-Processamento\n",
        "\n",
        "Preparação dos dados contidos na planilha para visualização dos primeiros 12 meses para prever o 13°."
      ],
      "metadata": {
        "id": "0wgmyE4hduwF"
      }
    },
    {
      "cell_type": "code",
      "source": [
        "from sklearn.preprocessing import MinMaxScaler\n",
        "import numpy as np\n",
        "\n",
        "scaler = MinMaxScaler()\n",
        "scaled = scaler.fit_transform(dadosPrev[[\"Valor\"]])\n",
        "\n",
        "def criar_janelas(data, n_steps):\n",
        "    X, y = [], []\n",
        "    for i in range(len(data) - n_steps):\n",
        "        X.append(data[i:i+n_steps])\n",
        "        y.append(data[i+n_steps])\n",
        "    return np.array(X), np.array(y)\n",
        "\n",
        "n_steps = 12\n",
        "X, y = criar_janelas(scaled, n_steps)\n",
        "\n",
        "X.shape"
      ],
      "metadata": {
        "colab": {
          "base_uri": "https://localhost:8080/"
        },
        "id": "6hlGQ4UZdzl9",
        "outputId": "240a71dc-5bf9-4c48-ede4-fe05c4aad39e"
      },
      "execution_count": 3,
      "outputs": [
        {
          "output_type": "execute_result",
          "data": {
            "text/plain": [
              "(312, 12, 1)"
            ]
          },
          "metadata": {},
          "execution_count": 3
        }
      ]
    },
    {
      "cell_type": "markdown",
      "source": [
        "# Construção do LSTM\n",
        "\n",
        "Construção do modelo de ML LSTM para processamento dos dados."
      ],
      "metadata": {
        "id": "7_V2X3-kiv4z"
      }
    },
    {
      "cell_type": "code",
      "source": [
        "!pip install tensorflow\n",
        "\n",
        "import tensorflow as tf\n",
        "from tensorflow.keras.models import Sequential\n",
        "from tensorflow.keras.layers import LSTM, Dense, GRU\n",
        "from tensorflow.keras.optimizers import Adam\n",
        "from tensorflow.keras.losses import Huber\n",
        "\n",
        "model = Sequential()\n",
        "model.add(GRU(64, activation='tanh', return_sequences=True, input_shape=(n_steps, 1)))\n",
        "model.add(LSTM(32, activation='tanh', return_sequences=False))\n",
        "model.add(Dense(16, activation='relu'))\n",
        "model.add(Dense(1, 'linear'))\n",
        "\n",
        "model.compile(\n",
        "    optimizer=Adam(learning_rate=0.001),\n",
        "    loss=Huber(delta=1.0)\n",
        ")\n",
        "\n",
        "model.summary()"
      ],
      "metadata": {
        "colab": {
          "base_uri": "https://localhost:8080/",
          "height": 986
        },
        "id": "FB9TDbOri3da",
        "outputId": "338cb92b-2e16-4a08-91ba-264c4a5a29a4"
      },
      "execution_count": 30,
      "outputs": [
        {
          "output_type": "stream",
          "name": "stdout",
          "text": [
            "Requirement already satisfied: tensorflow in /usr/local/lib/python3.11/dist-packages (2.18.0)\n",
            "Requirement already satisfied: absl-py>=1.0.0 in /usr/local/lib/python3.11/dist-packages (from tensorflow) (1.4.0)\n",
            "Requirement already satisfied: astunparse>=1.6.0 in /usr/local/lib/python3.11/dist-packages (from tensorflow) (1.6.3)\n",
            "Requirement already satisfied: flatbuffers>=24.3.25 in /usr/local/lib/python3.11/dist-packages (from tensorflow) (25.2.10)\n",
            "Requirement already satisfied: gast!=0.5.0,!=0.5.1,!=0.5.2,>=0.2.1 in /usr/local/lib/python3.11/dist-packages (from tensorflow) (0.6.0)\n",
            "Requirement already satisfied: google-pasta>=0.1.1 in /usr/local/lib/python3.11/dist-packages (from tensorflow) (0.2.0)\n",
            "Requirement already satisfied: libclang>=13.0.0 in /usr/local/lib/python3.11/dist-packages (from tensorflow) (18.1.1)\n",
            "Requirement already satisfied: opt-einsum>=2.3.2 in /usr/local/lib/python3.11/dist-packages (from tensorflow) (3.4.0)\n",
            "Requirement already satisfied: packaging in /usr/local/lib/python3.11/dist-packages (from tensorflow) (24.2)\n",
            "Requirement already satisfied: protobuf!=4.21.0,!=4.21.1,!=4.21.2,!=4.21.3,!=4.21.4,!=4.21.5,<6.0.0dev,>=3.20.3 in /usr/local/lib/python3.11/dist-packages (from tensorflow) (5.29.4)\n",
            "Requirement already satisfied: requests<3,>=2.21.0 in /usr/local/lib/python3.11/dist-packages (from tensorflow) (2.32.3)\n",
            "Requirement already satisfied: setuptools in /usr/local/lib/python3.11/dist-packages (from tensorflow) (75.2.0)\n",
            "Requirement already satisfied: six>=1.12.0 in /usr/local/lib/python3.11/dist-packages (from tensorflow) (1.17.0)\n",
            "Requirement already satisfied: termcolor>=1.1.0 in /usr/local/lib/python3.11/dist-packages (from tensorflow) (3.1.0)\n",
            "Requirement already satisfied: typing-extensions>=3.6.6 in /usr/local/lib/python3.11/dist-packages (from tensorflow) (4.13.2)\n",
            "Requirement already satisfied: wrapt>=1.11.0 in /usr/local/lib/python3.11/dist-packages (from tensorflow) (1.17.2)\n",
            "Requirement already satisfied: grpcio<2.0,>=1.24.3 in /usr/local/lib/python3.11/dist-packages (from tensorflow) (1.71.0)\n",
            "Requirement already satisfied: tensorboard<2.19,>=2.18 in /usr/local/lib/python3.11/dist-packages (from tensorflow) (2.18.0)\n",
            "Requirement already satisfied: keras>=3.5.0 in /usr/local/lib/python3.11/dist-packages (from tensorflow) (3.8.0)\n",
            "Requirement already satisfied: numpy<2.1.0,>=1.26.0 in /usr/local/lib/python3.11/dist-packages (from tensorflow) (2.0.2)\n",
            "Requirement already satisfied: h5py>=3.11.0 in /usr/local/lib/python3.11/dist-packages (from tensorflow) (3.13.0)\n",
            "Requirement already satisfied: ml-dtypes<0.5.0,>=0.4.0 in /usr/local/lib/python3.11/dist-packages (from tensorflow) (0.4.1)\n",
            "Requirement already satisfied: tensorflow-io-gcs-filesystem>=0.23.1 in /usr/local/lib/python3.11/dist-packages (from tensorflow) (0.37.1)\n",
            "Requirement already satisfied: wheel<1.0,>=0.23.0 in /usr/local/lib/python3.11/dist-packages (from astunparse>=1.6.0->tensorflow) (0.45.1)\n",
            "Requirement already satisfied: rich in /usr/local/lib/python3.11/dist-packages (from keras>=3.5.0->tensorflow) (13.9.4)\n",
            "Requirement already satisfied: namex in /usr/local/lib/python3.11/dist-packages (from keras>=3.5.0->tensorflow) (0.0.9)\n",
            "Requirement already satisfied: optree in /usr/local/lib/python3.11/dist-packages (from keras>=3.5.0->tensorflow) (0.15.0)\n",
            "Requirement already satisfied: charset-normalizer<4,>=2 in /usr/local/lib/python3.11/dist-packages (from requests<3,>=2.21.0->tensorflow) (3.4.2)\n",
            "Requirement already satisfied: idna<4,>=2.5 in /usr/local/lib/python3.11/dist-packages (from requests<3,>=2.21.0->tensorflow) (3.10)\n",
            "Requirement already satisfied: urllib3<3,>=1.21.1 in /usr/local/lib/python3.11/dist-packages (from requests<3,>=2.21.0->tensorflow) (2.4.0)\n",
            "Requirement already satisfied: certifi>=2017.4.17 in /usr/local/lib/python3.11/dist-packages (from requests<3,>=2.21.0->tensorflow) (2025.4.26)\n",
            "Requirement already satisfied: markdown>=2.6.8 in /usr/local/lib/python3.11/dist-packages (from tensorboard<2.19,>=2.18->tensorflow) (3.8)\n",
            "Requirement already satisfied: tensorboard-data-server<0.8.0,>=0.7.0 in /usr/local/lib/python3.11/dist-packages (from tensorboard<2.19,>=2.18->tensorflow) (0.7.2)\n",
            "Requirement already satisfied: werkzeug>=1.0.1 in /usr/local/lib/python3.11/dist-packages (from tensorboard<2.19,>=2.18->tensorflow) (3.1.3)\n",
            "Requirement already satisfied: MarkupSafe>=2.1.1 in /usr/local/lib/python3.11/dist-packages (from werkzeug>=1.0.1->tensorboard<2.19,>=2.18->tensorflow) (3.0.2)\n",
            "Requirement already satisfied: markdown-it-py>=2.2.0 in /usr/local/lib/python3.11/dist-packages (from rich->keras>=3.5.0->tensorflow) (3.0.0)\n",
            "Requirement already satisfied: pygments<3.0.0,>=2.13.0 in /usr/local/lib/python3.11/dist-packages (from rich->keras>=3.5.0->tensorflow) (2.19.1)\n",
            "Requirement already satisfied: mdurl~=0.1 in /usr/local/lib/python3.11/dist-packages (from markdown-it-py>=2.2.0->rich->keras>=3.5.0->tensorflow) (0.1.2)\n"
          ]
        },
        {
          "output_type": "stream",
          "name": "stderr",
          "text": [
            "/usr/local/lib/python3.11/dist-packages/keras/src/layers/rnn/rnn.py:200: UserWarning: Do not pass an `input_shape`/`input_dim` argument to a layer. When using Sequential models, prefer using an `Input(shape)` object as the first layer in the model instead.\n",
            "  super().__init__(**kwargs)\n"
          ]
        },
        {
          "output_type": "display_data",
          "data": {
            "text/plain": [
              "\u001b[1mModel: \"sequential_4\"\u001b[0m\n"
            ],
            "text/html": [
              "<pre style=\"white-space:pre;overflow-x:auto;line-height:normal;font-family:Menlo,'DejaVu Sans Mono',consolas,'Courier New',monospace\"><span style=\"font-weight: bold\">Model: \"sequential_4\"</span>\n",
              "</pre>\n"
            ]
          },
          "metadata": {}
        },
        {
          "output_type": "display_data",
          "data": {
            "text/plain": [
              "┏━━━━━━━━━━━━━━━━━━━━━━━━━━━━━━━━━┳━━━━━━━━━━━━━━━━━━━━━━━━┳━━━━━━━━━━━━━━━┓\n",
              "┃\u001b[1m \u001b[0m\u001b[1mLayer (type)                   \u001b[0m\u001b[1m \u001b[0m┃\u001b[1m \u001b[0m\u001b[1mOutput Shape          \u001b[0m\u001b[1m \u001b[0m┃\u001b[1m \u001b[0m\u001b[1m      Param #\u001b[0m\u001b[1m \u001b[0m┃\n",
              "┡━━━━━━━━━━━━━━━━━━━━━━━━━━━━━━━━━╇━━━━━━━━━━━━━━━━━━━━━━━━╇━━━━━━━━━━━━━━━┩\n",
              "│ gru_4 (\u001b[38;5;33mGRU\u001b[0m)                     │ (\u001b[38;5;45mNone\u001b[0m, \u001b[38;5;34m12\u001b[0m, \u001b[38;5;34m64\u001b[0m)         │        \u001b[38;5;34m12,864\u001b[0m │\n",
              "├─────────────────────────────────┼────────────────────────┼───────────────┤\n",
              "│ lstm_4 (\u001b[38;5;33mLSTM\u001b[0m)                   │ (\u001b[38;5;45mNone\u001b[0m, \u001b[38;5;34m32\u001b[0m)             │        \u001b[38;5;34m12,416\u001b[0m │\n",
              "├─────────────────────────────────┼────────────────────────┼───────────────┤\n",
              "│ dense_8 (\u001b[38;5;33mDense\u001b[0m)                 │ (\u001b[38;5;45mNone\u001b[0m, \u001b[38;5;34m16\u001b[0m)             │           \u001b[38;5;34m528\u001b[0m │\n",
              "├─────────────────────────────────┼────────────────────────┼───────────────┤\n",
              "│ dense_9 (\u001b[38;5;33mDense\u001b[0m)                 │ (\u001b[38;5;45mNone\u001b[0m, \u001b[38;5;34m1\u001b[0m)              │            \u001b[38;5;34m17\u001b[0m │\n",
              "└─────────────────────────────────┴────────────────────────┴───────────────┘\n"
            ],
            "text/html": [
              "<pre style=\"white-space:pre;overflow-x:auto;line-height:normal;font-family:Menlo,'DejaVu Sans Mono',consolas,'Courier New',monospace\">┏━━━━━━━━━━━━━━━━━━━━━━━━━━━━━━━━━┳━━━━━━━━━━━━━━━━━━━━━━━━┳━━━━━━━━━━━━━━━┓\n",
              "┃<span style=\"font-weight: bold\"> Layer (type)                    </span>┃<span style=\"font-weight: bold\"> Output Shape           </span>┃<span style=\"font-weight: bold\">       Param # </span>┃\n",
              "┡━━━━━━━━━━━━━━━━━━━━━━━━━━━━━━━━━╇━━━━━━━━━━━━━━━━━━━━━━━━╇━━━━━━━━━━━━━━━┩\n",
              "│ gru_4 (<span style=\"color: #0087ff; text-decoration-color: #0087ff\">GRU</span>)                     │ (<span style=\"color: #00d7ff; text-decoration-color: #00d7ff\">None</span>, <span style=\"color: #00af00; text-decoration-color: #00af00\">12</span>, <span style=\"color: #00af00; text-decoration-color: #00af00\">64</span>)         │        <span style=\"color: #00af00; text-decoration-color: #00af00\">12,864</span> │\n",
              "├─────────────────────────────────┼────────────────────────┼───────────────┤\n",
              "│ lstm_4 (<span style=\"color: #0087ff; text-decoration-color: #0087ff\">LSTM</span>)                   │ (<span style=\"color: #00d7ff; text-decoration-color: #00d7ff\">None</span>, <span style=\"color: #00af00; text-decoration-color: #00af00\">32</span>)             │        <span style=\"color: #00af00; text-decoration-color: #00af00\">12,416</span> │\n",
              "├─────────────────────────────────┼────────────────────────┼───────────────┤\n",
              "│ dense_8 (<span style=\"color: #0087ff; text-decoration-color: #0087ff\">Dense</span>)                 │ (<span style=\"color: #00d7ff; text-decoration-color: #00d7ff\">None</span>, <span style=\"color: #00af00; text-decoration-color: #00af00\">16</span>)             │           <span style=\"color: #00af00; text-decoration-color: #00af00\">528</span> │\n",
              "├─────────────────────────────────┼────────────────────────┼───────────────┤\n",
              "│ dense_9 (<span style=\"color: #0087ff; text-decoration-color: #0087ff\">Dense</span>)                 │ (<span style=\"color: #00d7ff; text-decoration-color: #00d7ff\">None</span>, <span style=\"color: #00af00; text-decoration-color: #00af00\">1</span>)              │            <span style=\"color: #00af00; text-decoration-color: #00af00\">17</span> │\n",
              "└─────────────────────────────────┴────────────────────────┴───────────────┘\n",
              "</pre>\n"
            ]
          },
          "metadata": {}
        },
        {
          "output_type": "display_data",
          "data": {
            "text/plain": [
              "\u001b[1m Total params: \u001b[0m\u001b[38;5;34m25,825\u001b[0m (100.88 KB)\n"
            ],
            "text/html": [
              "<pre style=\"white-space:pre;overflow-x:auto;line-height:normal;font-family:Menlo,'DejaVu Sans Mono',consolas,'Courier New',monospace\"><span style=\"font-weight: bold\"> Total params: </span><span style=\"color: #00af00; text-decoration-color: #00af00\">25,825</span> (100.88 KB)\n",
              "</pre>\n"
            ]
          },
          "metadata": {}
        },
        {
          "output_type": "display_data",
          "data": {
            "text/plain": [
              "\u001b[1m Trainable params: \u001b[0m\u001b[38;5;34m25,825\u001b[0m (100.88 KB)\n"
            ],
            "text/html": [
              "<pre style=\"white-space:pre;overflow-x:auto;line-height:normal;font-family:Menlo,'DejaVu Sans Mono',consolas,'Courier New',monospace\"><span style=\"font-weight: bold\"> Trainable params: </span><span style=\"color: #00af00; text-decoration-color: #00af00\">25,825</span> (100.88 KB)\n",
              "</pre>\n"
            ]
          },
          "metadata": {}
        },
        {
          "output_type": "display_data",
          "data": {
            "text/plain": [
              "\u001b[1m Non-trainable params: \u001b[0m\u001b[38;5;34m0\u001b[0m (0.00 B)\n"
            ],
            "text/html": [
              "<pre style=\"white-space:pre;overflow-x:auto;line-height:normal;font-family:Menlo,'DejaVu Sans Mono',consolas,'Courier New',monospace\"><span style=\"font-weight: bold\"> Non-trainable params: </span><span style=\"color: #00af00; text-decoration-color: #00af00\">0</span> (0.00 B)\n",
              "</pre>\n"
            ]
          },
          "metadata": {}
        }
      ]
    },
    {
      "cell_type": "markdown",
      "source": [
        "# Treinamento do Modelo\n",
        "\n",
        "Aplicação do treinamento do modelo por épocas."
      ],
      "metadata": {
        "id": "Ins3SQqqmvdE"
      }
    },
    {
      "cell_type": "code",
      "source": [
        "from tensorflow.keras.callbacks import Callback\n",
        "\n",
        "from tensorflow.keras.callbacks import ModelCheckpoint\n",
        "\n",
        "checkpoint = ModelCheckpoint(\n",
        "    'melhor_modelo.h5',\n",
        "    monitor='loss',\n",
        "    save_best_only=True,\n",
        "    mode='min',\n",
        "    verbose=0\n",
        ")\n",
        "\n",
        "class ColorLossFeedback(Callback):\n",
        "    def __init__(self):\n",
        "        super().__init__()\n",
        "        self.best_loss = float('inf')\n",
        "\n",
        "    def on_epoch_end(self, epoch, logs=None):\n",
        "        current_loss = logs.get('loss')\n",
        "        if current_loss is not None:\n",
        "            if current_loss < self.best_loss:\n",
        "                print(f\"\\033[92mEpoch {epoch+1}: Loss melhorou → {current_loss:.6f}\\033[0m\")\n",
        "                self.best_loss = current_loss\n",
        "            elif current_loss > self.best_loss:\n",
        "                print(f\"\\033[91mEpoch {epoch+1}: Loss piorou   → {current_loss:.6f}\\033[0m\")\n",
        "            else:\n",
        "                print(f\"\\033[90mEpoch {epoch+1}: Loss igual     → {current_loss:.6f}\\033[0m\")\n",
        "\n",
        "\n",
        "model.fit(X, y, epochs=500, verbose=0, callbacks=[ColorLossFeedback(), checkpoint])\n"
      ],
      "metadata": {
        "id": "HnHNt4ywm8XU",
        "colab": {
          "base_uri": "https://localhost:8080/"
        },
        "outputId": "4a8bf7a9-9651-4f98-f559-5c35030ad0e4"
      },
      "execution_count": 31,
      "outputs": [
        {
          "output_type": "stream",
          "name": "stderr",
          "text": [
            "WARNING:absl:You are saving your model as an HDF5 file via `model.save()` or `keras.saving.save_model(model)`. This file format is considered legacy. We recommend using instead the native Keras format, e.g. `model.save('my_model.keras')` or `keras.saving.save_model(model, 'my_model.keras')`. \n"
          ]
        },
        {
          "output_type": "stream",
          "name": "stdout",
          "text": [
            "\u001b[92mEpoch 1: Loss melhorou → 0.038268\u001b[0m\n"
          ]
        },
        {
          "output_type": "stream",
          "name": "stderr",
          "text": [
            "WARNING:absl:You are saving your model as an HDF5 file via `model.save()` or `keras.saving.save_model(model)`. This file format is considered legacy. We recommend using instead the native Keras format, e.g. `model.save('my_model.keras')` or `keras.saving.save_model(model, 'my_model.keras')`. \n"
          ]
        },
        {
          "output_type": "stream",
          "name": "stdout",
          "text": [
            "\u001b[92mEpoch 2: Loss melhorou → 0.006748\u001b[0m\n"
          ]
        },
        {
          "output_type": "stream",
          "name": "stderr",
          "text": [
            "WARNING:absl:You are saving your model as an HDF5 file via `model.save()` or `keras.saving.save_model(model)`. This file format is considered legacy. We recommend using instead the native Keras format, e.g. `model.save('my_model.keras')` or `keras.saving.save_model(model, 'my_model.keras')`. \n"
          ]
        },
        {
          "output_type": "stream",
          "name": "stdout",
          "text": [
            "\u001b[92mEpoch 3: Loss melhorou → 0.003108\u001b[0m\n"
          ]
        },
        {
          "output_type": "stream",
          "name": "stderr",
          "text": [
            "WARNING:absl:You are saving your model as an HDF5 file via `model.save()` or `keras.saving.save_model(model)`. This file format is considered legacy. We recommend using instead the native Keras format, e.g. `model.save('my_model.keras')` or `keras.saving.save_model(model, 'my_model.keras')`. \n"
          ]
        },
        {
          "output_type": "stream",
          "name": "stdout",
          "text": [
            "\u001b[92mEpoch 4: Loss melhorou → 0.001392\u001b[0m\n"
          ]
        },
        {
          "output_type": "stream",
          "name": "stderr",
          "text": [
            "WARNING:absl:You are saving your model as an HDF5 file via `model.save()` or `keras.saving.save_model(model)`. This file format is considered legacy. We recommend using instead the native Keras format, e.g. `model.save('my_model.keras')` or `keras.saving.save_model(model, 'my_model.keras')`. \n"
          ]
        },
        {
          "output_type": "stream",
          "name": "stdout",
          "text": [
            "\u001b[92mEpoch 5: Loss melhorou → 0.001066\u001b[0m\n"
          ]
        },
        {
          "output_type": "stream",
          "name": "stderr",
          "text": [
            "WARNING:absl:You are saving your model as an HDF5 file via `model.save()` or `keras.saving.save_model(model)`. This file format is considered legacy. We recommend using instead the native Keras format, e.g. `model.save('my_model.keras')` or `keras.saving.save_model(model, 'my_model.keras')`. \n"
          ]
        },
        {
          "output_type": "stream",
          "name": "stdout",
          "text": [
            "\u001b[92mEpoch 6: Loss melhorou → 0.000890\u001b[0m\n"
          ]
        },
        {
          "output_type": "stream",
          "name": "stderr",
          "text": [
            "WARNING:absl:You are saving your model as an HDF5 file via `model.save()` or `keras.saving.save_model(model)`. This file format is considered legacy. We recommend using instead the native Keras format, e.g. `model.save('my_model.keras')` or `keras.saving.save_model(model, 'my_model.keras')`. \n"
          ]
        },
        {
          "output_type": "stream",
          "name": "stdout",
          "text": [
            "\u001b[92mEpoch 7: Loss melhorou → 0.000825\u001b[0m\n",
            "\u001b[91mEpoch 8: Loss piorou   → 0.000834\u001b[0m\n",
            "\u001b[91mEpoch 9: Loss piorou   → 0.000943\u001b[0m\n",
            "\u001b[91mEpoch 10: Loss piorou   → 0.000873\u001b[0m\n",
            "\u001b[91mEpoch 11: Loss piorou   → 0.000859\u001b[0m\n"
          ]
        },
        {
          "output_type": "stream",
          "name": "stderr",
          "text": [
            "WARNING:absl:You are saving your model as an HDF5 file via `model.save()` or `keras.saving.save_model(model)`. This file format is considered legacy. We recommend using instead the native Keras format, e.g. `model.save('my_model.keras')` or `keras.saving.save_model(model, 'my_model.keras')`. \n"
          ]
        },
        {
          "output_type": "stream",
          "name": "stdout",
          "text": [
            "\u001b[91mEpoch 12: Loss piorou   → 0.000853\u001b[0m\n",
            "\u001b[92mEpoch 13: Loss melhorou → 0.000824\u001b[0m\n",
            "\u001b[91mEpoch 14: Loss piorou   → 0.000852\u001b[0m\n",
            "\u001b[91mEpoch 15: Loss piorou   → 0.000837\u001b[0m\n",
            "\u001b[91mEpoch 16: Loss piorou   → 0.000844\u001b[0m\n",
            "\u001b[91mEpoch 17: Loss piorou   → 0.000829\u001b[0m\n"
          ]
        },
        {
          "output_type": "stream",
          "name": "stderr",
          "text": [
            "WARNING:absl:You are saving your model as an HDF5 file via `model.save()` or `keras.saving.save_model(model)`. This file format is considered legacy. We recommend using instead the native Keras format, e.g. `model.save('my_model.keras')` or `keras.saving.save_model(model, 'my_model.keras')`. \n"
          ]
        },
        {
          "output_type": "stream",
          "name": "stdout",
          "text": [
            "\u001b[91mEpoch 18: Loss piorou   → 0.000835\u001b[0m\n",
            "\u001b[92mEpoch 19: Loss melhorou → 0.000823\u001b[0m\n"
          ]
        },
        {
          "output_type": "stream",
          "name": "stderr",
          "text": [
            "WARNING:absl:You are saving your model as an HDF5 file via `model.save()` or `keras.saving.save_model(model)`. This file format is considered legacy. We recommend using instead the native Keras format, e.g. `model.save('my_model.keras')` or `keras.saving.save_model(model, 'my_model.keras')`. \n"
          ]
        },
        {
          "output_type": "stream",
          "name": "stdout",
          "text": [
            "\u001b[92mEpoch 20: Loss melhorou → 0.000822\u001b[0m\n"
          ]
        },
        {
          "output_type": "stream",
          "name": "stderr",
          "text": [
            "WARNING:absl:You are saving your model as an HDF5 file via `model.save()` or `keras.saving.save_model(model)`. This file format is considered legacy. We recommend using instead the native Keras format, e.g. `model.save('my_model.keras')` or `keras.saving.save_model(model, 'my_model.keras')`. \n"
          ]
        },
        {
          "output_type": "stream",
          "name": "stdout",
          "text": [
            "\u001b[92mEpoch 21: Loss melhorou → 0.000802\u001b[0m\n",
            "\u001b[91mEpoch 22: Loss piorou   → 0.000909\u001b[0m\n",
            "\u001b[91mEpoch 23: Loss piorou   → 0.000868\u001b[0m\n",
            "\u001b[91mEpoch 24: Loss piorou   → 0.000872\u001b[0m\n",
            "\u001b[91mEpoch 25: Loss piorou   → 0.000826\u001b[0m\n",
            "\u001b[91mEpoch 26: Loss piorou   → 0.000876\u001b[0m\n",
            "\u001b[91mEpoch 27: Loss piorou   → 0.000841\u001b[0m\n",
            "\u001b[91mEpoch 28: Loss piorou   → 0.000814\u001b[0m\n",
            "\u001b[91mEpoch 29: Loss piorou   → 0.000813\u001b[0m\n"
          ]
        },
        {
          "output_type": "stream",
          "name": "stderr",
          "text": [
            "WARNING:absl:You are saving your model as an HDF5 file via `model.save()` or `keras.saving.save_model(model)`. This file format is considered legacy. We recommend using instead the native Keras format, e.g. `model.save('my_model.keras')` or `keras.saving.save_model(model, 'my_model.keras')`. \n"
          ]
        },
        {
          "output_type": "stream",
          "name": "stdout",
          "text": [
            "\u001b[92mEpoch 30: Loss melhorou → 0.000802\u001b[0m\n",
            "\u001b[91mEpoch 31: Loss piorou   → 0.000810\u001b[0m\n",
            "\u001b[91mEpoch 32: Loss piorou   → 0.000850\u001b[0m\n",
            "\u001b[91mEpoch 33: Loss piorou   → 0.000949\u001b[0m\n",
            "\u001b[91mEpoch 34: Loss piorou   → 0.000928\u001b[0m\n",
            "\u001b[91mEpoch 35: Loss piorou   → 0.000842\u001b[0m\n",
            "\u001b[91mEpoch 36: Loss piorou   → 0.000871\u001b[0m\n",
            "\u001b[91mEpoch 37: Loss piorou   → 0.000825\u001b[0m\n",
            "\u001b[91mEpoch 38: Loss piorou   → 0.000857\u001b[0m\n"
          ]
        },
        {
          "output_type": "stream",
          "name": "stderr",
          "text": [
            "WARNING:absl:You are saving your model as an HDF5 file via `model.save()` or `keras.saving.save_model(model)`. This file format is considered legacy. We recommend using instead the native Keras format, e.g. `model.save('my_model.keras')` or `keras.saving.save_model(model, 'my_model.keras')`. \n"
          ]
        },
        {
          "output_type": "stream",
          "name": "stdout",
          "text": [
            "\u001b[92mEpoch 39: Loss melhorou → 0.000793\u001b[0m\n",
            "\u001b[91mEpoch 40: Loss piorou   → 0.000823\u001b[0m\n",
            "\u001b[91mEpoch 41: Loss piorou   → 0.000807\u001b[0m\n",
            "\u001b[91mEpoch 42: Loss piorou   → 0.000866\u001b[0m\n",
            "\u001b[91mEpoch 43: Loss piorou   → 0.000809\u001b[0m\n",
            "\u001b[91mEpoch 44: Loss piorou   → 0.000808\u001b[0m\n",
            "\u001b[91mEpoch 45: Loss piorou   → 0.000891\u001b[0m\n",
            "\u001b[91mEpoch 46: Loss piorou   → 0.000918\u001b[0m\n"
          ]
        },
        {
          "output_type": "stream",
          "name": "stderr",
          "text": [
            "WARNING:absl:You are saving your model as an HDF5 file via `model.save()` or `keras.saving.save_model(model)`. This file format is considered legacy. We recommend using instead the native Keras format, e.g. `model.save('my_model.keras')` or `keras.saving.save_model(model, 'my_model.keras')`. \n"
          ]
        },
        {
          "output_type": "stream",
          "name": "stdout",
          "text": [
            "\u001b[92mEpoch 47: Loss melhorou → 0.000791\u001b[0m\n",
            "\u001b[91mEpoch 48: Loss piorou   → 0.000806\u001b[0m\n",
            "\u001b[91mEpoch 49: Loss piorou   → 0.000909\u001b[0m\n",
            "\u001b[91mEpoch 50: Loss piorou   → 0.000843\u001b[0m\n",
            "\u001b[91mEpoch 51: Loss piorou   → 0.000827\u001b[0m\n",
            "\u001b[91mEpoch 52: Loss piorou   → 0.000945\u001b[0m\n",
            "\u001b[91mEpoch 53: Loss piorou   → 0.000825\u001b[0m\n",
            "\u001b[91mEpoch 54: Loss piorou   → 0.000825\u001b[0m\n",
            "\u001b[91mEpoch 55: Loss piorou   → 0.000847\u001b[0m\n",
            "\u001b[91mEpoch 56: Loss piorou   → 0.000840\u001b[0m\n",
            "\u001b[91mEpoch 57: Loss piorou   → 0.000806\u001b[0m\n"
          ]
        },
        {
          "output_type": "stream",
          "name": "stderr",
          "text": [
            "WARNING:absl:You are saving your model as an HDF5 file via `model.save()` or `keras.saving.save_model(model)`. This file format is considered legacy. We recommend using instead the native Keras format, e.g. `model.save('my_model.keras')` or `keras.saving.save_model(model, 'my_model.keras')`. \n"
          ]
        },
        {
          "output_type": "stream",
          "name": "stdout",
          "text": [
            "\u001b[91mEpoch 58: Loss piorou   → 0.000808\u001b[0m\n",
            "\u001b[92mEpoch 59: Loss melhorou → 0.000767\u001b[0m\n",
            "\u001b[91mEpoch 60: Loss piorou   → 0.000808\u001b[0m\n",
            "\u001b[91mEpoch 61: Loss piorou   → 0.000797\u001b[0m\n",
            "\u001b[91mEpoch 62: Loss piorou   → 0.000843\u001b[0m\n",
            "\u001b[91mEpoch 63: Loss piorou   → 0.000914\u001b[0m\n",
            "\u001b[91mEpoch 64: Loss piorou   → 0.000879\u001b[0m\n",
            "\u001b[91mEpoch 65: Loss piorou   → 0.000811\u001b[0m\n",
            "\u001b[91mEpoch 66: Loss piorou   → 0.000775\u001b[0m\n"
          ]
        },
        {
          "output_type": "stream",
          "name": "stderr",
          "text": [
            "WARNING:absl:You are saving your model as an HDF5 file via `model.save()` or `keras.saving.save_model(model)`. This file format is considered legacy. We recommend using instead the native Keras format, e.g. `model.save('my_model.keras')` or `keras.saving.save_model(model, 'my_model.keras')`. \n"
          ]
        },
        {
          "output_type": "stream",
          "name": "stdout",
          "text": [
            "\u001b[91mEpoch 67: Loss piorou   → 0.000770\u001b[0m\n",
            "\u001b[92mEpoch 68: Loss melhorou → 0.000748\u001b[0m\n",
            "\u001b[91mEpoch 69: Loss piorou   → 0.000749\u001b[0m\n",
            "\u001b[91mEpoch 70: Loss piorou   → 0.000784\u001b[0m\n",
            "\u001b[91mEpoch 71: Loss piorou   → 0.000765\u001b[0m\n",
            "\u001b[91mEpoch 72: Loss piorou   → 0.000758\u001b[0m\n",
            "\u001b[91mEpoch 73: Loss piorou   → 0.000760\u001b[0m\n",
            "\u001b[91mEpoch 74: Loss piorou   → 0.000850\u001b[0m\n",
            "\u001b[91mEpoch 75: Loss piorou   → 0.000818\u001b[0m\n",
            "\u001b[91mEpoch 76: Loss piorou   → 0.000906\u001b[0m\n",
            "\u001b[91mEpoch 77: Loss piorou   → 0.000766\u001b[0m\n",
            "\u001b[91mEpoch 78: Loss piorou   → 0.000839\u001b[0m\n",
            "\u001b[91mEpoch 79: Loss piorou   → 0.000801\u001b[0m\n",
            "\u001b[91mEpoch 80: Loss piorou   → 0.000838\u001b[0m\n",
            "\u001b[91mEpoch 81: Loss piorou   → 0.000815\u001b[0m\n",
            "\u001b[91mEpoch 82: Loss piorou   → 0.000840\u001b[0m\n",
            "\u001b[91mEpoch 83: Loss piorou   → 0.000951\u001b[0m\n",
            "\u001b[91mEpoch 84: Loss piorou   → 0.000851\u001b[0m\n",
            "\u001b[91mEpoch 85: Loss piorou   → 0.000885\u001b[0m\n",
            "\u001b[91mEpoch 86: Loss piorou   → 0.000810\u001b[0m\n"
          ]
        },
        {
          "output_type": "stream",
          "name": "stderr",
          "text": [
            "WARNING:absl:You are saving your model as an HDF5 file via `model.save()` or `keras.saving.save_model(model)`. This file format is considered legacy. We recommend using instead the native Keras format, e.g. `model.save('my_model.keras')` or `keras.saving.save_model(model, 'my_model.keras')`. \n"
          ]
        },
        {
          "output_type": "stream",
          "name": "stdout",
          "text": [
            "\u001b[91mEpoch 87: Loss piorou   → 0.000750\u001b[0m\n",
            "\u001b[92mEpoch 88: Loss melhorou → 0.000725\u001b[0m\n",
            "\u001b[91mEpoch 89: Loss piorou   → 0.000762\u001b[0m\n",
            "\u001b[91mEpoch 90: Loss piorou   → 0.000779\u001b[0m\n",
            "\u001b[91mEpoch 91: Loss piorou   → 0.000855\u001b[0m\n",
            "\u001b[91mEpoch 92: Loss piorou   → 0.000897\u001b[0m\n",
            "\u001b[91mEpoch 93: Loss piorou   → 0.000758\u001b[0m\n",
            "\u001b[91mEpoch 94: Loss piorou   → 0.000841\u001b[0m\n",
            "\u001b[91mEpoch 95: Loss piorou   → 0.000831\u001b[0m\n",
            "\u001b[91mEpoch 96: Loss piorou   → 0.000769\u001b[0m\n"
          ]
        },
        {
          "output_type": "stream",
          "name": "stderr",
          "text": [
            "WARNING:absl:You are saving your model as an HDF5 file via `model.save()` or `keras.saving.save_model(model)`. This file format is considered legacy. We recommend using instead the native Keras format, e.g. `model.save('my_model.keras')` or `keras.saving.save_model(model, 'my_model.keras')`. \n"
          ]
        },
        {
          "output_type": "stream",
          "name": "stdout",
          "text": [
            "\u001b[92mEpoch 97: Loss melhorou → 0.000711\u001b[0m\n",
            "\u001b[91mEpoch 98: Loss piorou   → 0.000736\u001b[0m\n",
            "\u001b[91mEpoch 99: Loss piorou   → 0.000829\u001b[0m\n",
            "\u001b[91mEpoch 100: Loss piorou   → 0.000773\u001b[0m\n",
            "\u001b[91mEpoch 101: Loss piorou   → 0.000773\u001b[0m\n",
            "\u001b[91mEpoch 102: Loss piorou   → 0.000770\u001b[0m\n",
            "\u001b[91mEpoch 103: Loss piorou   → 0.000801\u001b[0m\n",
            "\u001b[91mEpoch 104: Loss piorou   → 0.000729\u001b[0m\n",
            "\u001b[91mEpoch 105: Loss piorou   → 0.000733\u001b[0m\n",
            "\u001b[91mEpoch 106: Loss piorou   → 0.000757\u001b[0m\n",
            "\u001b[91mEpoch 107: Loss piorou   → 0.000772\u001b[0m\n",
            "\u001b[91mEpoch 108: Loss piorou   → 0.000721\u001b[0m\n"
          ]
        },
        {
          "output_type": "stream",
          "name": "stderr",
          "text": [
            "WARNING:absl:You are saving your model as an HDF5 file via `model.save()` or `keras.saving.save_model(model)`. This file format is considered legacy. We recommend using instead the native Keras format, e.g. `model.save('my_model.keras')` or `keras.saving.save_model(model, 'my_model.keras')`. \n"
          ]
        },
        {
          "output_type": "stream",
          "name": "stdout",
          "text": [
            "\u001b[92mEpoch 109: Loss melhorou → 0.000700\u001b[0m\n",
            "\u001b[91mEpoch 110: Loss piorou   → 0.000702\u001b[0m\n"
          ]
        },
        {
          "output_type": "stream",
          "name": "stderr",
          "text": [
            "WARNING:absl:You are saving your model as an HDF5 file via `model.save()` or `keras.saving.save_model(model)`. This file format is considered legacy. We recommend using instead the native Keras format, e.g. `model.save('my_model.keras')` or `keras.saving.save_model(model, 'my_model.keras')`. \n"
          ]
        },
        {
          "output_type": "stream",
          "name": "stdout",
          "text": [
            "\u001b[92mEpoch 111: Loss melhorou → 0.000689\u001b[0m\n",
            "\u001b[91mEpoch 112: Loss piorou   → 0.000694\u001b[0m\n",
            "\u001b[91mEpoch 113: Loss piorou   → 0.000701\u001b[0m\n",
            "\u001b[91mEpoch 114: Loss piorou   → 0.000730\u001b[0m\n",
            "\u001b[91mEpoch 115: Loss piorou   → 0.000729\u001b[0m\n"
          ]
        },
        {
          "output_type": "stream",
          "name": "stderr",
          "text": [
            "WARNING:absl:You are saving your model as an HDF5 file via `model.save()` or `keras.saving.save_model(model)`. This file format is considered legacy. We recommend using instead the native Keras format, e.g. `model.save('my_model.keras')` or `keras.saving.save_model(model, 'my_model.keras')`. \n"
          ]
        },
        {
          "output_type": "stream",
          "name": "stdout",
          "text": [
            "\u001b[92mEpoch 116: Loss melhorou → 0.000677\u001b[0m\n",
            "\u001b[91mEpoch 117: Loss piorou   → 0.000692\u001b[0m\n",
            "\u001b[91mEpoch 118: Loss piorou   → 0.000704\u001b[0m\n",
            "\u001b[91mEpoch 119: Loss piorou   → 0.000765\u001b[0m\n",
            "\u001b[91mEpoch 120: Loss piorou   → 0.000710\u001b[0m\n",
            "\u001b[91mEpoch 121: Loss piorou   → 0.000681\u001b[0m\n",
            "\u001b[91mEpoch 122: Loss piorou   → 0.000678\u001b[0m\n",
            "\u001b[91mEpoch 123: Loss piorou   → 0.000734\u001b[0m\n",
            "\u001b[91mEpoch 124: Loss piorou   → 0.000697\u001b[0m\n",
            "\u001b[91mEpoch 125: Loss piorou   → 0.000690\u001b[0m\n",
            "\u001b[91mEpoch 126: Loss piorou   → 0.000711\u001b[0m\n",
            "\u001b[91mEpoch 127: Loss piorou   → 0.000707\u001b[0m\n",
            "\u001b[91mEpoch 128: Loss piorou   → 0.000680\u001b[0m\n",
            "\u001b[91mEpoch 129: Loss piorou   → 0.000691\u001b[0m\n",
            "\u001b[91mEpoch 130: Loss piorou   → 0.000697\u001b[0m\n"
          ]
        },
        {
          "output_type": "stream",
          "name": "stderr",
          "text": [
            "WARNING:absl:You are saving your model as an HDF5 file via `model.save()` or `keras.saving.save_model(model)`. This file format is considered legacy. We recommend using instead the native Keras format, e.g. `model.save('my_model.keras')` or `keras.saving.save_model(model, 'my_model.keras')`. \n"
          ]
        },
        {
          "output_type": "stream",
          "name": "stdout",
          "text": [
            "\u001b[92mEpoch 131: Loss melhorou → 0.000659\u001b[0m\n",
            "\u001b[91mEpoch 132: Loss piorou   → 0.000700\u001b[0m\n"
          ]
        },
        {
          "output_type": "stream",
          "name": "stderr",
          "text": [
            "WARNING:absl:You are saving your model as an HDF5 file via `model.save()` or `keras.saving.save_model(model)`. This file format is considered legacy. We recommend using instead the native Keras format, e.g. `model.save('my_model.keras')` or `keras.saving.save_model(model, 'my_model.keras')`. \n"
          ]
        },
        {
          "output_type": "stream",
          "name": "stdout",
          "text": [
            "\u001b[92mEpoch 133: Loss melhorou → 0.000654\u001b[0m\n",
            "\u001b[91mEpoch 134: Loss piorou   → 0.000667\u001b[0m\n",
            "\u001b[91mEpoch 135: Loss piorou   → 0.000690\u001b[0m\n"
          ]
        },
        {
          "output_type": "stream",
          "name": "stderr",
          "text": [
            "WARNING:absl:You are saving your model as an HDF5 file via `model.save()` or `keras.saving.save_model(model)`. This file format is considered legacy. We recommend using instead the native Keras format, e.g. `model.save('my_model.keras')` or `keras.saving.save_model(model, 'my_model.keras')`. \n"
          ]
        },
        {
          "output_type": "stream",
          "name": "stdout",
          "text": [
            "\u001b[92mEpoch 136: Loss melhorou → 0.000646\u001b[0m\n",
            "\u001b[91mEpoch 137: Loss piorou   → 0.000648\u001b[0m\n",
            "\u001b[91mEpoch 138: Loss piorou   → 0.000655\u001b[0m\n",
            "\u001b[91mEpoch 139: Loss piorou   → 0.000651\u001b[0m\n"
          ]
        },
        {
          "output_type": "stream",
          "name": "stderr",
          "text": [
            "WARNING:absl:You are saving your model as an HDF5 file via `model.save()` or `keras.saving.save_model(model)`. This file format is considered legacy. We recommend using instead the native Keras format, e.g. `model.save('my_model.keras')` or `keras.saving.save_model(model, 'my_model.keras')`. \n"
          ]
        },
        {
          "output_type": "stream",
          "name": "stdout",
          "text": [
            "\u001b[92mEpoch 140: Loss melhorou → 0.000646\u001b[0m\n",
            "\u001b[91mEpoch 141: Loss piorou   → 0.000664\u001b[0m\n",
            "\u001b[91mEpoch 142: Loss piorou   → 0.000650\u001b[0m\n"
          ]
        },
        {
          "output_type": "stream",
          "name": "stderr",
          "text": [
            "WARNING:absl:You are saving your model as an HDF5 file via `model.save()` or `keras.saving.save_model(model)`. This file format is considered legacy. We recommend using instead the native Keras format, e.g. `model.save('my_model.keras')` or `keras.saving.save_model(model, 'my_model.keras')`. \n"
          ]
        },
        {
          "output_type": "stream",
          "name": "stdout",
          "text": [
            "\u001b[92mEpoch 143: Loss melhorou → 0.000637\u001b[0m\n",
            "\u001b[91mEpoch 144: Loss piorou   → 0.000696\u001b[0m\n",
            "\u001b[91mEpoch 145: Loss piorou   → 0.000664\u001b[0m\n",
            "\u001b[91mEpoch 146: Loss piorou   → 0.000643\u001b[0m\n",
            "\u001b[91mEpoch 147: Loss piorou   → 0.000703\u001b[0m\n",
            "\u001b[91mEpoch 148: Loss piorou   → 0.000749\u001b[0m\n",
            "\u001b[91mEpoch 149: Loss piorou   → 0.000639\u001b[0m\n",
            "\u001b[91mEpoch 150: Loss piorou   → 0.000817\u001b[0m\n",
            "\u001b[91mEpoch 151: Loss piorou   → 0.000673\u001b[0m\n",
            "\u001b[91mEpoch 152: Loss piorou   → 0.000675\u001b[0m\n",
            "\u001b[91mEpoch 153: Loss piorou   → 0.000676\u001b[0m\n",
            "\u001b[91mEpoch 154: Loss piorou   → 0.000686\u001b[0m\n",
            "\u001b[91mEpoch 155: Loss piorou   → 0.000741\u001b[0m\n",
            "\u001b[91mEpoch 156: Loss piorou   → 0.000903\u001b[0m\n",
            "\u001b[91mEpoch 157: Loss piorou   → 0.000768\u001b[0m\n",
            "\u001b[91mEpoch 158: Loss piorou   → 0.000801\u001b[0m\n",
            "\u001b[91mEpoch 159: Loss piorou   → 0.000694\u001b[0m\n"
          ]
        },
        {
          "output_type": "stream",
          "name": "stderr",
          "text": [
            "WARNING:absl:You are saving your model as an HDF5 file via `model.save()` or `keras.saving.save_model(model)`. This file format is considered legacy. We recommend using instead the native Keras format, e.g. `model.save('my_model.keras')` or `keras.saving.save_model(model, 'my_model.keras')`. \n"
          ]
        },
        {
          "output_type": "stream",
          "name": "stdout",
          "text": [
            "\u001b[92mEpoch 160: Loss melhorou → 0.000619\u001b[0m\n",
            "\u001b[91mEpoch 161: Loss piorou   → 0.000686\u001b[0m\n",
            "\u001b[91mEpoch 162: Loss piorou   → 0.000756\u001b[0m\n",
            "\u001b[91mEpoch 163: Loss piorou   → 0.000647\u001b[0m\n",
            "\u001b[91mEpoch 164: Loss piorou   → 0.000665\u001b[0m\n",
            "\u001b[91mEpoch 165: Loss piorou   → 0.000699\u001b[0m\n",
            "\u001b[91mEpoch 166: Loss piorou   → 0.000651\u001b[0m\n",
            "\u001b[91mEpoch 167: Loss piorou   → 0.000648\u001b[0m\n",
            "\u001b[91mEpoch 168: Loss piorou   → 0.000692\u001b[0m\n",
            "\u001b[91mEpoch 169: Loss piorou   → 0.000706\u001b[0m\n",
            "\u001b[91mEpoch 170: Loss piorou   → 0.000637\u001b[0m\n",
            "\u001b[91mEpoch 171: Loss piorou   → 0.000693\u001b[0m\n"
          ]
        },
        {
          "output_type": "stream",
          "name": "stderr",
          "text": [
            "WARNING:absl:You are saving your model as an HDF5 file via `model.save()` or `keras.saving.save_model(model)`. This file format is considered legacy. We recommend using instead the native Keras format, e.g. `model.save('my_model.keras')` or `keras.saving.save_model(model, 'my_model.keras')`. \n"
          ]
        },
        {
          "output_type": "stream",
          "name": "stdout",
          "text": [
            "\u001b[92mEpoch 172: Loss melhorou → 0.000615\u001b[0m\n"
          ]
        },
        {
          "output_type": "stream",
          "name": "stderr",
          "text": [
            "WARNING:absl:You are saving your model as an HDF5 file via `model.save()` or `keras.saving.save_model(model)`. This file format is considered legacy. We recommend using instead the native Keras format, e.g. `model.save('my_model.keras')` or `keras.saving.save_model(model, 'my_model.keras')`. \n"
          ]
        },
        {
          "output_type": "stream",
          "name": "stdout",
          "text": [
            "\u001b[92mEpoch 173: Loss melhorou → 0.000609\u001b[0m\n",
            "\u001b[91mEpoch 174: Loss piorou   → 0.000623\u001b[0m\n"
          ]
        },
        {
          "output_type": "stream",
          "name": "stderr",
          "text": [
            "WARNING:absl:You are saving your model as an HDF5 file via `model.save()` or `keras.saving.save_model(model)`. This file format is considered legacy. We recommend using instead the native Keras format, e.g. `model.save('my_model.keras')` or `keras.saving.save_model(model, 'my_model.keras')`. \n"
          ]
        },
        {
          "output_type": "stream",
          "name": "stdout",
          "text": [
            "\u001b[92mEpoch 175: Loss melhorou → 0.000588\u001b[0m\n",
            "\u001b[91mEpoch 176: Loss piorou   → 0.000651\u001b[0m\n",
            "\u001b[91mEpoch 177: Loss piorou   → 0.000603\u001b[0m\n",
            "\u001b[91mEpoch 178: Loss piorou   → 0.000716\u001b[0m\n",
            "\u001b[91mEpoch 179: Loss piorou   → 0.000589\u001b[0m\n",
            "\u001b[91mEpoch 180: Loss piorou   → 0.000600\u001b[0m\n",
            "\u001b[91mEpoch 181: Loss piorou   → 0.000594\u001b[0m\n"
          ]
        },
        {
          "output_type": "stream",
          "name": "stderr",
          "text": [
            "WARNING:absl:You are saving your model as an HDF5 file via `model.save()` or `keras.saving.save_model(model)`. This file format is considered legacy. We recommend using instead the native Keras format, e.g. `model.save('my_model.keras')` or `keras.saving.save_model(model, 'my_model.keras')`. \n"
          ]
        },
        {
          "output_type": "stream",
          "name": "stdout",
          "text": [
            "\u001b[92mEpoch 182: Loss melhorou → 0.000588\u001b[0m\n",
            "\u001b[91mEpoch 183: Loss piorou   → 0.000605\u001b[0m\n",
            "\u001b[91mEpoch 184: Loss piorou   → 0.000658\u001b[0m\n",
            "\u001b[91mEpoch 185: Loss piorou   → 0.000785\u001b[0m\n",
            "\u001b[91mEpoch 186: Loss piorou   → 0.000629\u001b[0m\n"
          ]
        },
        {
          "output_type": "stream",
          "name": "stderr",
          "text": [
            "WARNING:absl:You are saving your model as an HDF5 file via `model.save()` or `keras.saving.save_model(model)`. This file format is considered legacy. We recommend using instead the native Keras format, e.g. `model.save('my_model.keras')` or `keras.saving.save_model(model, 'my_model.keras')`. \n"
          ]
        },
        {
          "output_type": "stream",
          "name": "stdout",
          "text": [
            "\u001b[92mEpoch 187: Loss melhorou → 0.000573\u001b[0m\n",
            "\u001b[91mEpoch 188: Loss piorou   → 0.000619\u001b[0m\n",
            "\u001b[91mEpoch 189: Loss piorou   → 0.000615\u001b[0m\n",
            "\u001b[91mEpoch 190: Loss piorou   → 0.000608\u001b[0m\n",
            "\u001b[91mEpoch 191: Loss piorou   → 0.000613\u001b[0m\n",
            "\u001b[91mEpoch 192: Loss piorou   → 0.000719\u001b[0m\n",
            "\u001b[91mEpoch 193: Loss piorou   → 0.000638\u001b[0m\n",
            "\u001b[91mEpoch 194: Loss piorou   → 0.000625\u001b[0m\n",
            "\u001b[91mEpoch 195: Loss piorou   → 0.000630\u001b[0m\n",
            "\u001b[91mEpoch 196: Loss piorou   → 0.000594\u001b[0m\n",
            "\u001b[91mEpoch 197: Loss piorou   → 0.000606\u001b[0m\n",
            "\u001b[91mEpoch 198: Loss piorou   → 0.000581\u001b[0m\n",
            "\u001b[91mEpoch 199: Loss piorou   → 0.000639\u001b[0m\n",
            "\u001b[91mEpoch 200: Loss piorou   → 0.000621\u001b[0m\n",
            "\u001b[91mEpoch 201: Loss piorou   → 0.000591\u001b[0m\n",
            "\u001b[91mEpoch 202: Loss piorou   → 0.000583\u001b[0m\n",
            "\u001b[91mEpoch 203: Loss piorou   → 0.000586\u001b[0m\n",
            "\u001b[91mEpoch 204: Loss piorou   → 0.000578\u001b[0m\n",
            "\u001b[91mEpoch 205: Loss piorou   → 0.000603\u001b[0m\n",
            "\u001b[91mEpoch 206: Loss piorou   → 0.000680\u001b[0m\n",
            "\u001b[91mEpoch 207: Loss piorou   → 0.000686\u001b[0m\n",
            "\u001b[91mEpoch 208: Loss piorou   → 0.000617\u001b[0m\n",
            "\u001b[91mEpoch 209: Loss piorou   → 0.000576\u001b[0m\n",
            "\u001b[91mEpoch 210: Loss piorou   → 0.000616\u001b[0m\n",
            "\u001b[91mEpoch 211: Loss piorou   → 0.000625\u001b[0m\n",
            "\u001b[91mEpoch 212: Loss piorou   → 0.000575\u001b[0m\n",
            "\u001b[91mEpoch 213: Loss piorou   → 0.000620\u001b[0m\n",
            "\u001b[91mEpoch 214: Loss piorou   → 0.000693\u001b[0m\n",
            "\u001b[91mEpoch 215: Loss piorou   → 0.000770\u001b[0m\n",
            "\u001b[91mEpoch 216: Loss piorou   → 0.000673\u001b[0m\n",
            "\u001b[91mEpoch 217: Loss piorou   → 0.000594\u001b[0m\n",
            "\u001b[91mEpoch 218: Loss piorou   → 0.000590\u001b[0m\n",
            "\u001b[91mEpoch 219: Loss piorou   → 0.000579\u001b[0m\n",
            "\u001b[91mEpoch 220: Loss piorou   → 0.000606\u001b[0m\n",
            "\u001b[91mEpoch 221: Loss piorou   → 0.000621\u001b[0m\n",
            "\u001b[91mEpoch 222: Loss piorou   → 0.000601\u001b[0m\n",
            "\u001b[91mEpoch 223: Loss piorou   → 0.000633\u001b[0m\n",
            "\u001b[91mEpoch 224: Loss piorou   → 0.000635\u001b[0m\n",
            "\u001b[91mEpoch 225: Loss piorou   → 0.000614\u001b[0m\n",
            "\u001b[91mEpoch 226: Loss piorou   → 0.000591\u001b[0m\n",
            "\u001b[91mEpoch 227: Loss piorou   → 0.000596\u001b[0m\n",
            "\u001b[91mEpoch 228: Loss piorou   → 0.000581\u001b[0m\n",
            "\u001b[91mEpoch 229: Loss piorou   → 0.000611\u001b[0m\n",
            "\u001b[91mEpoch 230: Loss piorou   → 0.000664\u001b[0m\n",
            "\u001b[91mEpoch 231: Loss piorou   → 0.000607\u001b[0m\n",
            "\u001b[91mEpoch 232: Loss piorou   → 0.000607\u001b[0m\n",
            "\u001b[91mEpoch 233: Loss piorou   → 0.000606\u001b[0m\n"
          ]
        },
        {
          "output_type": "stream",
          "name": "stderr",
          "text": [
            "WARNING:absl:You are saving your model as an HDF5 file via `model.save()` or `keras.saving.save_model(model)`. This file format is considered legacy. We recommend using instead the native Keras format, e.g. `model.save('my_model.keras')` or `keras.saving.save_model(model, 'my_model.keras')`. \n"
          ]
        },
        {
          "output_type": "stream",
          "name": "stdout",
          "text": [
            "\u001b[91mEpoch 234: Loss piorou   → 0.000584\u001b[0m\n",
            "\u001b[92mEpoch 235: Loss melhorou → 0.000573\u001b[0m\n"
          ]
        },
        {
          "output_type": "stream",
          "name": "stderr",
          "text": [
            "WARNING:absl:You are saving your model as an HDF5 file via `model.save()` or `keras.saving.save_model(model)`. This file format is considered legacy. We recommend using instead the native Keras format, e.g. `model.save('my_model.keras')` or `keras.saving.save_model(model, 'my_model.keras')`. \n"
          ]
        },
        {
          "output_type": "stream",
          "name": "stdout",
          "text": [
            "\u001b[92mEpoch 236: Loss melhorou → 0.000573\u001b[0m\n",
            "\u001b[91mEpoch 237: Loss piorou   → 0.000574\u001b[0m\n",
            "\u001b[91mEpoch 238: Loss piorou   → 0.000582\u001b[0m\n",
            "\u001b[91mEpoch 239: Loss piorou   → 0.000574\u001b[0m\n",
            "\u001b[91mEpoch 240: Loss piorou   → 0.000651\u001b[0m\n",
            "\u001b[91mEpoch 241: Loss piorou   → 0.000668\u001b[0m\n",
            "\u001b[91mEpoch 242: Loss piorou   → 0.000640\u001b[0m\n",
            "\u001b[91mEpoch 243: Loss piorou   → 0.000624\u001b[0m\n",
            "\u001b[91mEpoch 244: Loss piorou   → 0.000611\u001b[0m\n",
            "\u001b[91mEpoch 245: Loss piorou   → 0.000577\u001b[0m\n",
            "\u001b[91mEpoch 246: Loss piorou   → 0.000595\u001b[0m\n",
            "\u001b[91mEpoch 247: Loss piorou   → 0.000599\u001b[0m\n",
            "\u001b[91mEpoch 248: Loss piorou   → 0.000597\u001b[0m\n",
            "\u001b[91mEpoch 249: Loss piorou   → 0.000627\u001b[0m\n",
            "\u001b[91mEpoch 250: Loss piorou   → 0.000701\u001b[0m\n",
            "\u001b[91mEpoch 251: Loss piorou   → 0.000672\u001b[0m\n",
            "\u001b[91mEpoch 252: Loss piorou   → 0.000628\u001b[0m\n",
            "\u001b[91mEpoch 253: Loss piorou   → 0.000583\u001b[0m\n",
            "\u001b[91mEpoch 254: Loss piorou   → 0.000596\u001b[0m\n",
            "\u001b[91mEpoch 255: Loss piorou   → 0.000596\u001b[0m\n",
            "\u001b[91mEpoch 256: Loss piorou   → 0.000610\u001b[0m\n",
            "\u001b[91mEpoch 257: Loss piorou   → 0.000648\u001b[0m\n",
            "\u001b[91mEpoch 258: Loss piorou   → 0.000634\u001b[0m\n",
            "\u001b[91mEpoch 259: Loss piorou   → 0.000606\u001b[0m\n",
            "\u001b[91mEpoch 260: Loss piorou   → 0.000588\u001b[0m\n",
            "\u001b[91mEpoch 261: Loss piorou   → 0.000592\u001b[0m\n",
            "\u001b[91mEpoch 262: Loss piorou   → 0.000580\u001b[0m\n",
            "\u001b[91mEpoch 263: Loss piorou   → 0.000585\u001b[0m\n",
            "\u001b[91mEpoch 264: Loss piorou   → 0.000610\u001b[0m\n",
            "\u001b[91mEpoch 265: Loss piorou   → 0.000587\u001b[0m\n"
          ]
        },
        {
          "output_type": "stream",
          "name": "stderr",
          "text": [
            "WARNING:absl:You are saving your model as an HDF5 file via `model.save()` or `keras.saving.save_model(model)`. This file format is considered legacy. We recommend using instead the native Keras format, e.g. `model.save('my_model.keras')` or `keras.saving.save_model(model, 'my_model.keras')`. \n"
          ]
        },
        {
          "output_type": "stream",
          "name": "stdout",
          "text": [
            "\u001b[91mEpoch 266: Loss piorou   → 0.000583\u001b[0m\n",
            "\u001b[92mEpoch 267: Loss melhorou → 0.000570\u001b[0m\n",
            "\u001b[91mEpoch 268: Loss piorou   → 0.000611\u001b[0m\n",
            "\u001b[91mEpoch 269: Loss piorou   → 0.000598\u001b[0m\n",
            "\u001b[91mEpoch 270: Loss piorou   → 0.000585\u001b[0m\n",
            "\u001b[91mEpoch 271: Loss piorou   → 0.000574\u001b[0m\n",
            "\u001b[91mEpoch 272: Loss piorou   → 0.000579\u001b[0m\n"
          ]
        },
        {
          "output_type": "stream",
          "name": "stderr",
          "text": [
            "WARNING:absl:You are saving your model as an HDF5 file via `model.save()` or `keras.saving.save_model(model)`. This file format is considered legacy. We recommend using instead the native Keras format, e.g. `model.save('my_model.keras')` or `keras.saving.save_model(model, 'my_model.keras')`. \n"
          ]
        },
        {
          "output_type": "stream",
          "name": "stdout",
          "text": [
            "\u001b[92mEpoch 273: Loss melhorou → 0.000565\u001b[0m\n",
            "\u001b[91mEpoch 274: Loss piorou   → 0.000602\u001b[0m\n",
            "\u001b[91mEpoch 275: Loss piorou   → 0.000593\u001b[0m\n",
            "\u001b[91mEpoch 276: Loss piorou   → 0.000575\u001b[0m\n",
            "\u001b[91mEpoch 277: Loss piorou   → 0.000592\u001b[0m\n",
            "\u001b[91mEpoch 278: Loss piorou   → 0.000588\u001b[0m\n",
            "\u001b[91mEpoch 279: Loss piorou   → 0.000583\u001b[0m\n",
            "\u001b[91mEpoch 280: Loss piorou   → 0.000617\u001b[0m\n",
            "\u001b[91mEpoch 281: Loss piorou   → 0.000649\u001b[0m\n",
            "\u001b[91mEpoch 282: Loss piorou   → 0.000635\u001b[0m\n",
            "\u001b[91mEpoch 283: Loss piorou   → 0.000657\u001b[0m\n",
            "\u001b[91mEpoch 284: Loss piorou   → 0.000612\u001b[0m\n",
            "\u001b[91mEpoch 285: Loss piorou   → 0.000610\u001b[0m\n",
            "\u001b[91mEpoch 286: Loss piorou   → 0.000613\u001b[0m\n"
          ]
        },
        {
          "output_type": "stream",
          "name": "stderr",
          "text": [
            "WARNING:absl:You are saving your model as an HDF5 file via `model.save()` or `keras.saving.save_model(model)`. This file format is considered legacy. We recommend using instead the native Keras format, e.g. `model.save('my_model.keras')` or `keras.saving.save_model(model, 'my_model.keras')`. \n"
          ]
        },
        {
          "output_type": "stream",
          "name": "stdout",
          "text": [
            "\u001b[91mEpoch 287: Loss piorou   → 0.000574\u001b[0m\n",
            "\u001b[92mEpoch 288: Loss melhorou → 0.000561\u001b[0m\n",
            "\u001b[91mEpoch 289: Loss piorou   → 0.000606\u001b[0m\n",
            "\u001b[91mEpoch 290: Loss piorou   → 0.000579\u001b[0m\n",
            "\u001b[91mEpoch 291: Loss piorou   → 0.000581\u001b[0m\n",
            "\u001b[91mEpoch 292: Loss piorou   → 0.000623\u001b[0m\n",
            "\u001b[91mEpoch 293: Loss piorou   → 0.000601\u001b[0m\n",
            "\u001b[91mEpoch 294: Loss piorou   → 0.000692\u001b[0m\n",
            "\u001b[91mEpoch 295: Loss piorou   → 0.000647\u001b[0m\n",
            "\u001b[91mEpoch 296: Loss piorou   → 0.000589\u001b[0m\n",
            "\u001b[91mEpoch 297: Loss piorou   → 0.000630\u001b[0m\n",
            "\u001b[91mEpoch 298: Loss piorou   → 0.000657\u001b[0m\n",
            "\u001b[91mEpoch 299: Loss piorou   → 0.000588\u001b[0m\n",
            "\u001b[91mEpoch 300: Loss piorou   → 0.000607\u001b[0m\n",
            "\u001b[91mEpoch 301: Loss piorou   → 0.000608\u001b[0m\n",
            "\u001b[91mEpoch 302: Loss piorou   → 0.000598\u001b[0m\n",
            "\u001b[91mEpoch 303: Loss piorou   → 0.000618\u001b[0m\n",
            "\u001b[91mEpoch 304: Loss piorou   → 0.000578\u001b[0m\n",
            "\u001b[91mEpoch 305: Loss piorou   → 0.000617\u001b[0m\n",
            "\u001b[91mEpoch 306: Loss piorou   → 0.000587\u001b[0m\n",
            "\u001b[91mEpoch 307: Loss piorou   → 0.000586\u001b[0m\n",
            "\u001b[91mEpoch 308: Loss piorou   → 0.000565\u001b[0m\n",
            "\u001b[91mEpoch 309: Loss piorou   → 0.000564\u001b[0m\n",
            "\u001b[91mEpoch 310: Loss piorou   → 0.000601\u001b[0m\n",
            "\u001b[91mEpoch 311: Loss piorou   → 0.000591\u001b[0m\n",
            "\u001b[91mEpoch 312: Loss piorou   → 0.000576\u001b[0m\n",
            "\u001b[91mEpoch 313: Loss piorou   → 0.000578\u001b[0m\n",
            "\u001b[91mEpoch 314: Loss piorou   → 0.000662\u001b[0m\n",
            "\u001b[91mEpoch 315: Loss piorou   → 0.000660\u001b[0m\n",
            "\u001b[91mEpoch 316: Loss piorou   → 0.000662\u001b[0m\n",
            "\u001b[91mEpoch 317: Loss piorou   → 0.000578\u001b[0m\n",
            "\u001b[91mEpoch 318: Loss piorou   → 0.000681\u001b[0m\n",
            "\u001b[91mEpoch 319: Loss piorou   → 0.000627\u001b[0m\n",
            "\u001b[91mEpoch 320: Loss piorou   → 0.000659\u001b[0m\n",
            "\u001b[91mEpoch 321: Loss piorou   → 0.000584\u001b[0m\n",
            "\u001b[91mEpoch 322: Loss piorou   → 0.000574\u001b[0m\n",
            "\u001b[91mEpoch 323: Loss piorou   → 0.000578\u001b[0m\n",
            "\u001b[91mEpoch 324: Loss piorou   → 0.000576\u001b[0m\n",
            "\u001b[91mEpoch 325: Loss piorou   → 0.000575\u001b[0m\n",
            "\u001b[91mEpoch 326: Loss piorou   → 0.000572\u001b[0m\n",
            "\u001b[91mEpoch 327: Loss piorou   → 0.000617\u001b[0m\n",
            "\u001b[91mEpoch 328: Loss piorou   → 0.000584\u001b[0m\n",
            "\u001b[91mEpoch 329: Loss piorou   → 0.000586\u001b[0m\n",
            "\u001b[91mEpoch 330: Loss piorou   → 0.000615\u001b[0m\n",
            "\u001b[91mEpoch 331: Loss piorou   → 0.000617\u001b[0m\n",
            "\u001b[91mEpoch 332: Loss piorou   → 0.000692\u001b[0m\n",
            "\u001b[91mEpoch 333: Loss piorou   → 0.000649\u001b[0m\n",
            "\u001b[91mEpoch 334: Loss piorou   → 0.000566\u001b[0m\n",
            "\u001b[91mEpoch 335: Loss piorou   → 0.000595\u001b[0m\n",
            "\u001b[91mEpoch 336: Loss piorou   → 0.000569\u001b[0m\n",
            "\u001b[91mEpoch 337: Loss piorou   → 0.000583\u001b[0m\n",
            "\u001b[91mEpoch 338: Loss piorou   → 0.000637\u001b[0m\n",
            "\u001b[91mEpoch 339: Loss piorou   → 0.000647\u001b[0m\n",
            "\u001b[91mEpoch 340: Loss piorou   → 0.000630\u001b[0m\n",
            "\u001b[91mEpoch 341: Loss piorou   → 0.000650\u001b[0m\n",
            "\u001b[91mEpoch 342: Loss piorou   → 0.000610\u001b[0m\n",
            "\u001b[91mEpoch 343: Loss piorou   → 0.000629\u001b[0m\n",
            "\u001b[91mEpoch 344: Loss piorou   → 0.000594\u001b[0m\n",
            "\u001b[91mEpoch 345: Loss piorou   → 0.000625\u001b[0m\n",
            "\u001b[91mEpoch 346: Loss piorou   → 0.000581\u001b[0m\n",
            "\u001b[91mEpoch 347: Loss piorou   → 0.000627\u001b[0m\n",
            "\u001b[91mEpoch 348: Loss piorou   → 0.000602\u001b[0m\n",
            "\u001b[91mEpoch 349: Loss piorou   → 0.000583\u001b[0m\n",
            "\u001b[91mEpoch 350: Loss piorou   → 0.000577\u001b[0m\n",
            "\u001b[91mEpoch 351: Loss piorou   → 0.000566\u001b[0m\n",
            "\u001b[91mEpoch 352: Loss piorou   → 0.000621\u001b[0m\n",
            "\u001b[91mEpoch 353: Loss piorou   → 0.000613\u001b[0m\n",
            "\u001b[91mEpoch 354: Loss piorou   → 0.000585\u001b[0m\n",
            "\u001b[91mEpoch 355: Loss piorou   → 0.000582\u001b[0m\n",
            "\u001b[91mEpoch 356: Loss piorou   → 0.000566\u001b[0m\n",
            "\u001b[91mEpoch 357: Loss piorou   → 0.000603\u001b[0m\n",
            "\u001b[91mEpoch 358: Loss piorou   → 0.000581\u001b[0m\n",
            "\u001b[91mEpoch 359: Loss piorou   → 0.000699\u001b[0m\n",
            "\u001b[91mEpoch 360: Loss piorou   → 0.000600\u001b[0m\n",
            "\u001b[91mEpoch 361: Loss piorou   → 0.000585\u001b[0m\n",
            "\u001b[91mEpoch 362: Loss piorou   → 0.000598\u001b[0m\n",
            "\u001b[91mEpoch 363: Loss piorou   → 0.000599\u001b[0m\n",
            "\u001b[91mEpoch 364: Loss piorou   → 0.000652\u001b[0m\n",
            "\u001b[91mEpoch 365: Loss piorou   → 0.000587\u001b[0m\n",
            "\u001b[91mEpoch 366: Loss piorou   → 0.000568\u001b[0m\n",
            "\u001b[91mEpoch 367: Loss piorou   → 0.000600\u001b[0m\n",
            "\u001b[91mEpoch 368: Loss piorou   → 0.000596\u001b[0m\n",
            "\u001b[91mEpoch 369: Loss piorou   → 0.000601\u001b[0m\n",
            "\u001b[91mEpoch 370: Loss piorou   → 0.000568\u001b[0m\n",
            "\u001b[91mEpoch 371: Loss piorou   → 0.000579\u001b[0m\n",
            "\u001b[91mEpoch 372: Loss piorou   → 0.000599\u001b[0m\n",
            "\u001b[91mEpoch 373: Loss piorou   → 0.000571\u001b[0m\n",
            "\u001b[91mEpoch 374: Loss piorou   → 0.000583\u001b[0m\n",
            "\u001b[91mEpoch 375: Loss piorou   → 0.000665\u001b[0m\n",
            "\u001b[91mEpoch 376: Loss piorou   → 0.000626\u001b[0m\n",
            "\u001b[91mEpoch 377: Loss piorou   → 0.000658\u001b[0m\n",
            "\u001b[91mEpoch 378: Loss piorou   → 0.000646\u001b[0m\n",
            "\u001b[91mEpoch 379: Loss piorou   → 0.000581\u001b[0m\n",
            "\u001b[91mEpoch 380: Loss piorou   → 0.000564\u001b[0m\n",
            "\u001b[91mEpoch 381: Loss piorou   → 0.000569\u001b[0m\n",
            "\u001b[91mEpoch 382: Loss piorou   → 0.000595\u001b[0m\n",
            "\u001b[91mEpoch 383: Loss piorou   → 0.000635\u001b[0m\n",
            "\u001b[91mEpoch 384: Loss piorou   → 0.000624\u001b[0m\n",
            "\u001b[91mEpoch 385: Loss piorou   → 0.000587\u001b[0m\n",
            "\u001b[91mEpoch 386: Loss piorou   → 0.000570\u001b[0m\n",
            "\u001b[91mEpoch 387: Loss piorou   → 0.000589\u001b[0m\n",
            "\u001b[91mEpoch 388: Loss piorou   → 0.000573\u001b[0m\n",
            "\u001b[91mEpoch 389: Loss piorou   → 0.000566\u001b[0m\n",
            "\u001b[91mEpoch 390: Loss piorou   → 0.000570\u001b[0m\n",
            "\u001b[91mEpoch 391: Loss piorou   → 0.000610\u001b[0m\n",
            "\u001b[91mEpoch 392: Loss piorou   → 0.000687\u001b[0m\n",
            "\u001b[91mEpoch 393: Loss piorou   → 0.000620\u001b[0m\n",
            "\u001b[91mEpoch 394: Loss piorou   → 0.000596\u001b[0m\n",
            "\u001b[91mEpoch 395: Loss piorou   → 0.000634\u001b[0m\n",
            "\u001b[91mEpoch 396: Loss piorou   → 0.000616\u001b[0m\n",
            "\u001b[91mEpoch 397: Loss piorou   → 0.000594\u001b[0m\n",
            "\u001b[91mEpoch 398: Loss piorou   → 0.000562\u001b[0m\n",
            "\u001b[91mEpoch 399: Loss piorou   → 0.000580\u001b[0m\n",
            "\u001b[91mEpoch 400: Loss piorou   → 0.000602\u001b[0m\n",
            "\u001b[91mEpoch 401: Loss piorou   → 0.000568\u001b[0m\n",
            "\u001b[91mEpoch 402: Loss piorou   → 0.000580\u001b[0m\n",
            "\u001b[91mEpoch 403: Loss piorou   → 0.000572\u001b[0m\n",
            "\u001b[91mEpoch 404: Loss piorou   → 0.000579\u001b[0m\n",
            "\u001b[91mEpoch 405: Loss piorou   → 0.000589\u001b[0m\n",
            "\u001b[91mEpoch 406: Loss piorou   → 0.000571\u001b[0m\n",
            "\u001b[91mEpoch 407: Loss piorou   → 0.000567\u001b[0m\n",
            "\u001b[91mEpoch 408: Loss piorou   → 0.000563\u001b[0m\n",
            "\u001b[91mEpoch 409: Loss piorou   → 0.000637\u001b[0m\n",
            "\u001b[91mEpoch 410: Loss piorou   → 0.000633\u001b[0m\n",
            "\u001b[91mEpoch 411: Loss piorou   → 0.000604\u001b[0m\n",
            "\u001b[91mEpoch 412: Loss piorou   → 0.000568\u001b[0m\n",
            "\u001b[91mEpoch 413: Loss piorou   → 0.000587\u001b[0m\n",
            "\u001b[91mEpoch 414: Loss piorou   → 0.000584\u001b[0m\n"
          ]
        },
        {
          "output_type": "stream",
          "name": "stderr",
          "text": [
            "WARNING:absl:You are saving your model as an HDF5 file via `model.save()` or `keras.saving.save_model(model)`. This file format is considered legacy. We recommend using instead the native Keras format, e.g. `model.save('my_model.keras')` or `keras.saving.save_model(model, 'my_model.keras')`. \n"
          ]
        },
        {
          "output_type": "stream",
          "name": "stdout",
          "text": [
            "\u001b[92mEpoch 415: Loss melhorou → 0.000558\u001b[0m\n",
            "\u001b[91mEpoch 416: Loss piorou   → 0.000575\u001b[0m\n",
            "\u001b[91mEpoch 417: Loss piorou   → 0.000655\u001b[0m\n",
            "\u001b[91mEpoch 418: Loss piorou   → 0.000605\u001b[0m\n"
          ]
        },
        {
          "output_type": "stream",
          "name": "stderr",
          "text": [
            "WARNING:absl:You are saving your model as an HDF5 file via `model.save()` or `keras.saving.save_model(model)`. This file format is considered legacy. We recommend using instead the native Keras format, e.g. `model.save('my_model.keras')` or `keras.saving.save_model(model, 'my_model.keras')`. \n"
          ]
        },
        {
          "output_type": "stream",
          "name": "stdout",
          "text": [
            "\u001b[91mEpoch 419: Loss piorou   → 0.000597\u001b[0m\n",
            "\u001b[92mEpoch 420: Loss melhorou → 0.000556\u001b[0m\n",
            "\u001b[91mEpoch 421: Loss piorou   → 0.000559\u001b[0m\n",
            "\u001b[91mEpoch 422: Loss piorou   → 0.000562\u001b[0m\n",
            "\u001b[91mEpoch 423: Loss piorou   → 0.000586\u001b[0m\n",
            "\u001b[91mEpoch 424: Loss piorou   → 0.000618\u001b[0m\n",
            "\u001b[91mEpoch 425: Loss piorou   → 0.000598\u001b[0m\n"
          ]
        },
        {
          "output_type": "stream",
          "name": "stderr",
          "text": [
            "WARNING:absl:You are saving your model as an HDF5 file via `model.save()` or `keras.saving.save_model(model)`. This file format is considered legacy. We recommend using instead the native Keras format, e.g. `model.save('my_model.keras')` or `keras.saving.save_model(model, 'my_model.keras')`. \n"
          ]
        },
        {
          "output_type": "stream",
          "name": "stdout",
          "text": [
            "\u001b[92mEpoch 426: Loss melhorou → 0.000556\u001b[0m\n",
            "\u001b[91mEpoch 427: Loss piorou   → 0.000563\u001b[0m\n",
            "\u001b[91mEpoch 428: Loss piorou   → 0.000635\u001b[0m\n",
            "\u001b[91mEpoch 429: Loss piorou   → 0.000622\u001b[0m\n",
            "\u001b[91mEpoch 430: Loss piorou   → 0.000590\u001b[0m\n",
            "\u001b[91mEpoch 431: Loss piorou   → 0.000583\u001b[0m\n",
            "\u001b[91mEpoch 432: Loss piorou   → 0.000573\u001b[0m\n",
            "\u001b[91mEpoch 433: Loss piorou   → 0.000576\u001b[0m\n",
            "\u001b[91mEpoch 434: Loss piorou   → 0.000573\u001b[0m\n",
            "\u001b[91mEpoch 435: Loss piorou   → 0.000585\u001b[0m\n",
            "\u001b[91mEpoch 436: Loss piorou   → 0.000573\u001b[0m\n",
            "\u001b[91mEpoch 437: Loss piorou   → 0.000559\u001b[0m\n",
            "\u001b[91mEpoch 438: Loss piorou   → 0.000582\u001b[0m\n",
            "\u001b[91mEpoch 439: Loss piorou   → 0.000557\u001b[0m\n",
            "\u001b[91mEpoch 440: Loss piorou   → 0.000594\u001b[0m\n",
            "\u001b[91mEpoch 441: Loss piorou   → 0.000573\u001b[0m\n",
            "\u001b[91mEpoch 442: Loss piorou   → 0.000600\u001b[0m\n",
            "\u001b[91mEpoch 443: Loss piorou   → 0.000597\u001b[0m\n",
            "\u001b[91mEpoch 444: Loss piorou   → 0.000578\u001b[0m\n"
          ]
        },
        {
          "output_type": "stream",
          "name": "stderr",
          "text": [
            "WARNING:absl:You are saving your model as an HDF5 file via `model.save()` or `keras.saving.save_model(model)`. This file format is considered legacy. We recommend using instead the native Keras format, e.g. `model.save('my_model.keras')` or `keras.saving.save_model(model, 'my_model.keras')`. \n"
          ]
        },
        {
          "output_type": "stream",
          "name": "stdout",
          "text": [
            "\u001b[92mEpoch 445: Loss melhorou → 0.000554\u001b[0m\n",
            "\u001b[91mEpoch 446: Loss piorou   → 0.000582\u001b[0m\n",
            "\u001b[91mEpoch 447: Loss piorou   → 0.000576\u001b[0m\n",
            "\u001b[91mEpoch 448: Loss piorou   → 0.000572\u001b[0m\n",
            "\u001b[91mEpoch 449: Loss piorou   → 0.000585\u001b[0m\n",
            "\u001b[91mEpoch 450: Loss piorou   → 0.000575\u001b[0m\n",
            "\u001b[91mEpoch 451: Loss piorou   → 0.000603\u001b[0m\n",
            "\u001b[91mEpoch 452: Loss piorou   → 0.000581\u001b[0m\n",
            "\u001b[91mEpoch 453: Loss piorou   → 0.000617\u001b[0m\n",
            "\u001b[91mEpoch 454: Loss piorou   → 0.000613\u001b[0m\n",
            "\u001b[91mEpoch 455: Loss piorou   → 0.000682\u001b[0m\n",
            "\u001b[91mEpoch 456: Loss piorou   → 0.000592\u001b[0m\n",
            "\u001b[91mEpoch 457: Loss piorou   → 0.000588\u001b[0m\n",
            "\u001b[91mEpoch 458: Loss piorou   → 0.000573\u001b[0m\n",
            "\u001b[91mEpoch 459: Loss piorou   → 0.000563\u001b[0m\n",
            "\u001b[91mEpoch 460: Loss piorou   → 0.000579\u001b[0m\n",
            "\u001b[91mEpoch 461: Loss piorou   → 0.000686\u001b[0m\n",
            "\u001b[91mEpoch 462: Loss piorou   → 0.000645\u001b[0m\n",
            "\u001b[91mEpoch 463: Loss piorou   → 0.000563\u001b[0m\n",
            "\u001b[91mEpoch 464: Loss piorou   → 0.000703\u001b[0m\n",
            "\u001b[91mEpoch 465: Loss piorou   → 0.000586\u001b[0m\n",
            "\u001b[91mEpoch 466: Loss piorou   → 0.000608\u001b[0m\n",
            "\u001b[91mEpoch 467: Loss piorou   → 0.000560\u001b[0m\n",
            "\u001b[91mEpoch 468: Loss piorou   → 0.000559\u001b[0m\n",
            "\u001b[91mEpoch 469: Loss piorou   → 0.000555\u001b[0m\n",
            "\u001b[91mEpoch 470: Loss piorou   → 0.000569\u001b[0m\n"
          ]
        },
        {
          "output_type": "stream",
          "name": "stderr",
          "text": [
            "WARNING:absl:You are saving your model as an HDF5 file via `model.save()` or `keras.saving.save_model(model)`. This file format is considered legacy. We recommend using instead the native Keras format, e.g. `model.save('my_model.keras')` or `keras.saving.save_model(model, 'my_model.keras')`. \n"
          ]
        },
        {
          "output_type": "stream",
          "name": "stdout",
          "text": [
            "\u001b[92mEpoch 471: Loss melhorou → 0.000543\u001b[0m\n",
            "\u001b[91mEpoch 472: Loss piorou   → 0.000588\u001b[0m\n",
            "\u001b[91mEpoch 473: Loss piorou   → 0.000578\u001b[0m\n",
            "\u001b[91mEpoch 474: Loss piorou   → 0.000560\u001b[0m\n",
            "\u001b[91mEpoch 475: Loss piorou   → 0.000550\u001b[0m\n",
            "\u001b[91mEpoch 476: Loss piorou   → 0.000571\u001b[0m\n",
            "\u001b[91mEpoch 477: Loss piorou   → 0.000591\u001b[0m\n",
            "\u001b[91mEpoch 478: Loss piorou   → 0.000581\u001b[0m\n",
            "\u001b[91mEpoch 479: Loss piorou   → 0.000562\u001b[0m\n",
            "\u001b[91mEpoch 480: Loss piorou   → 0.000566\u001b[0m\n",
            "\u001b[91mEpoch 481: Loss piorou   → 0.000595\u001b[0m\n",
            "\u001b[91mEpoch 482: Loss piorou   → 0.000588\u001b[0m\n",
            "\u001b[91mEpoch 483: Loss piorou   → 0.000586\u001b[0m\n",
            "\u001b[91mEpoch 484: Loss piorou   → 0.000570\u001b[0m\n",
            "\u001b[91mEpoch 485: Loss piorou   → 0.000575\u001b[0m\n",
            "\u001b[91mEpoch 486: Loss piorou   → 0.000562\u001b[0m\n",
            "\u001b[91mEpoch 487: Loss piorou   → 0.000565\u001b[0m\n",
            "\u001b[91mEpoch 488: Loss piorou   → 0.000576\u001b[0m\n",
            "\u001b[91mEpoch 489: Loss piorou   → 0.000547\u001b[0m\n",
            "\u001b[91mEpoch 490: Loss piorou   → 0.000558\u001b[0m\n",
            "\u001b[91mEpoch 491: Loss piorou   → 0.000561\u001b[0m\n",
            "\u001b[91mEpoch 492: Loss piorou   → 0.000552\u001b[0m\n",
            "\u001b[91mEpoch 493: Loss piorou   → 0.000571\u001b[0m\n",
            "\u001b[91mEpoch 494: Loss piorou   → 0.000558\u001b[0m\n",
            "\u001b[91mEpoch 495: Loss piorou   → 0.000588\u001b[0m\n",
            "\u001b[91mEpoch 496: Loss piorou   → 0.000558\u001b[0m\n",
            "\u001b[91mEpoch 497: Loss piorou   → 0.000558\u001b[0m\n",
            "\u001b[91mEpoch 498: Loss piorou   → 0.000557\u001b[0m\n",
            "\u001b[91mEpoch 499: Loss piorou   → 0.000568\u001b[0m\n",
            "\u001b[91mEpoch 500: Loss piorou   → 0.000574\u001b[0m\n"
          ]
        },
        {
          "output_type": "execute_result",
          "data": {
            "text/plain": [
              "<keras.src.callbacks.history.History at 0x7db2f1b37fd0>"
            ]
          },
          "metadata": {},
          "execution_count": 31
        }
      ]
    },
    {
      "cell_type": "markdown",
      "source": [
        "# Previsões dos próximos meses\n",
        "\n",
        "Realiza a previsão através da análise dos últimos 12 meses."
      ],
      "metadata": {
        "id": "lU8usS0SnqQV"
      }
    },
    {
      "cell_type": "code",
      "source": [
        "y_pred = model.predict(X)\n",
        "y_pred = scaler.inverse_transform(y_pred)\n",
        "y_true = scaler.inverse_transform(y)\n",
        "plt.figure(figsize=(10,5))\n",
        "plt.plot(y_true, label=\"Real\")\n",
        "plt.plot(y_pred, label=\"Previsto\")\n",
        "plt.legend()\n",
        "plt.title(\"Previsão com LSTM\")\n",
        "plt.grid(True)\n",
        "tick_positions = list(range(0, len(y_true), 60))\n",
        "tick_labels = ['1999', '2004', '2009', '2014', '2019', '2024']\n",
        "\n",
        "plt.xticks(ticks=tick_positions, labels=tick_labels)\n",
        "plt.show()"
      ],
      "metadata": {
        "id": "RQAllzxMnx29",
        "colab": {
          "base_uri": "https://localhost:8080/",
          "height": 485
        },
        "outputId": "404171c0-b44d-469c-a6b5-0614fa6dc72f"
      },
      "execution_count": 35,
      "outputs": [
        {
          "output_type": "stream",
          "name": "stdout",
          "text": [
            "\u001b[1m10/10\u001b[0m \u001b[32m━━━━━━━━━━━━━━━━━━━━\u001b[0m\u001b[37m\u001b[0m \u001b[1m0s\u001b[0m 5ms/step \n"
          ]
        },
        {
          "output_type": "display_data",
          "data": {
            "text/plain": [
              "<Figure size 1000x500 with 1 Axes>"
            ],
            "image/png": "[encoded data removed]"
          },
          "metadata": {}
        }
      ]
    },
    {
      "cell_type": "code",
      "source": [
        "import pandas as pd\n",
        "\n",
        "resultados = pd.DataFrame({\n",
        "    \"Real\": y_true.flatten(),\n",
        "    \"Previsto\": y_pred.flatten(),\n",
        "    \"Diferenca\": (y_pred.flatten() - y_true.flatten()),\n",
        "    \"Porcentagem\": ((y_pred.flatten() - y_true.flatten()) / y_true.flatten()) * 100\n",
        "})\n",
        "\n",
        "resultados.index = dadosPrev.index[n_steps:]\n",
        "\n",
        "\n",
        "resultados = resultados[(resultados.index.year >= 2019) & (resultados.index.year <= 2024)]\n",
        "\n",
        "\n",
        "pd.options.display.float_format = '{:,.2f}'.format\n",
        "\n",
        "\n",
        "pd.set_option('display.max_rows', None)\n",
        "\n",
        "print(resultados[[\"Real\", \"Previsto\", \"Diferenca\", \"Porcentagem\"]])"
      ],
      "metadata": {
        "colab": {
          "base_uri": "https://localhost:8080/"
        },
        "id": "P1DAtQTApann",
        "outputId": "effd6692-c750-472e-88ce-439f8bd2b840"
      },
      "execution_count": 36,
      "outputs": [
        {
          "output_type": "stream",
          "name": "stdout",
          "text": [
            "                       Real         Previsto       Diferenca  Porcentagem\n",
            "Mês                                                                      \n",
            "2019-01-01   776,372,750.67   839,549,824.00   63,177,073.33         8.14\n",
            "2019-02-01   834,733,603.78   816,630,400.00  -18,103,203.78        -2.17\n",
            "2019-03-01   709,811,573.65   818,693,632.00  108,882,058.35        15.34\n",
            "2019-04-01   754,324,310.89   783,378,304.00   29,053,993.11         3.85\n",
            "2019-05-01   818,233,616.61   776,368,128.00  -41,865,488.61        -5.12\n",
            "2019-06-01   762,378,747.40   814,606,144.00   52,227,396.60         6.85\n",
            "2019-07-01   771,578,679.07   828,733,184.00   57,154,504.93         7.41\n",
            "2019-08-01   857,825,786.88   833,246,976.00  -24,578,810.88        -2.87\n",
            "2019-09-01   889,796,196.12   865,675,840.00  -24,120,356.12        -2.71\n",
            "2019-10-01   855,116,796.98   897,098,816.00   41,982,019.02         4.91\n",
            "2019-11-01   982,278,201.94   895,401,344.00  -86,876,857.94        -8.84\n",
            "2019-12-01 1,001,139,013.46   926,230,592.00  -74,908,421.46        -7.48\n",
            "2020-01-01   919,351,350.49   956,140,992.00   36,789,641.51         4.00\n",
            "2020-02-01   915,746,714.88   932,780,672.00   17,033,957.12         1.86\n",
            "2020-03-01   829,187,151.25   902,410,688.00   73,223,536.75         8.83\n",
            "2020-04-01   750,576,429.40   869,032,896.00  118,456,466.60        15.78\n",
            "2020-05-01   647,997,660.04   829,225,280.00  181,227,619.96        27.97\n",
            "2020-06-01   796,556,794.63   781,924,928.00  -14,631,866.63        -1.84\n",
            "2020-07-01   822,539,963.38   834,176,000.00   11,636,036.62         1.41\n",
            "2020-08-01   895,250,921.90   906,910,208.00   11,659,286.10         1.30\n",
            "2020-09-01 1,051,246,748.75   972,910,528.00  -78,336,220.75        -7.45\n",
            "2020-10-01 1,056,919,475.62 1,054,564,672.00   -2,354,803.62        -0.22\n",
            "2020-11-01 1,098,022,447.56 1,093,068,800.00   -4,953,647.56        -0.45\n",
            "2020-12-01 1,002,260,232.07 1,080,893,824.00   78,633,591.93         7.85\n",
            "2021-01-01   978,033,204.96 1,001,270,336.00   23,237,131.04         2.38\n",
            "2021-02-01   899,756,411.06   938,911,680.00   39,155,268.94         4.35\n",
            "2021-03-01   946,877,199.08   894,057,792.00  -52,819,407.08        -5.58\n",
            "2021-04-01   997,813,639.21   916,171,968.00  -81,641,671.21        -8.18\n",
            "2021-05-01 1,059,899,392.27   981,457,344.00  -78,442,048.27        -7.40\n",
            "2021-06-01 1,039,035,586.14 1,061,129,024.00   22,093,437.86         2.13\n",
            "2021-07-01 1,177,796,235.76 1,107,917,952.00  -69,878,283.76        -5.93\n",
            "2021-08-01 1,013,284,606.30 1,167,785,856.00  154,501,249.70        15.25\n",
            "2021-09-01 1,239,997,355.19 1,151,508,352.00  -88,489,003.19        -7.14\n",
            "2021-10-01 1,183,272,176.75 1,171,497,600.00  -11,774,576.75        -1.00\n",
            "2021-11-01 1,262,719,108.88 1,180,856,448.00  -81,862,660.88        -6.48\n",
            "2021-12-01 1,144,143,726.56 1,194,970,752.00   50,827,025.44         4.44\n",
            "2022-01-01 1,100,474,268.95 1,171,972,608.00   71,498,339.05         6.50\n",
            "2022-02-01 1,069,393,346.42 1,134,941,440.00   65,548,093.58         6.13\n",
            "2022-03-01 1,086,542,753.59 1,110,178,688.00   23,635,934.41         2.18\n",
            "2022-04-01 1,129,386,613.46 1,111,840,256.00  -17,546,357.46        -1.55\n",
            "2022-05-01 1,137,763,193.59 1,146,805,760.00    9,042,566.41         0.79\n",
            "2022-06-01 1,047,462,628.39 1,185,842,176.00  138,379,547.61        13.21\n",
            "2022-07-01 1,262,974,211.29 1,191,832,448.00  -71,141,763.29        -5.63\n",
            "2022-08-01 1,159,970,413.09 1,229,598,208.00   69,627,794.91         6.00\n",
            "2022-09-01 1,280,239,925.61 1,257,443,712.00  -22,796,213.61        -1.78\n",
            "2022-10-01 1,207,394,309.48 1,270,158,720.00   62,764,410.52         5.20\n",
            "2022-11-01 1,226,705,518.10 1,260,457,856.00   33,752,337.90         2.75\n",
            "2022-12-01 1,151,819,497.20 1,232,923,904.00   81,104,406.80         7.04\n",
            "2023-01-01 1,236,112,796.09 1,197,548,544.00  -38,564,252.09        -3.12\n",
            "2023-02-01 1,101,333,369.08 1,199,093,120.00   97,759,750.92         8.88\n",
            "2023-03-01 1,034,349,854.06 1,184,749,568.00  150,399,713.94        14.54\n",
            "2023-04-01 1,062,977,600.01 1,151,985,280.00   89,007,679.99         8.37\n",
            "2023-05-01 1,240,593,192.85 1,142,255,872.00  -98,337,320.85        -7.93\n",
            "2023-06-01 1,223,584,436.21 1,199,491,712.00  -24,092,724.21        -1.97\n",
            "2023-07-01 1,206,818,996.05 1,269,033,472.00   62,214,475.95         5.16\n",
            "2023-08-01 1,288,411,753.54 1,290,451,840.00    2,040,086.46         0.16\n",
            "2023-09-01 1,296,848,836.73 1,309,085,184.00   12,236,347.27         0.94\n",
            "2023-10-01 1,174,957,349.31 1,306,413,184.00  131,455,834.69        11.19\n",
            "2023-11-01 1,121,496,625.94 1,256,829,696.00  135,333,070.06        12.07\n",
            "2023-12-01 1,108,677,242.44 1,185,887,104.00   77,209,861.56         6.96\n",
            "2024-01-01 1,219,616,937.58 1,149,095,936.00  -70,521,001.58        -5.78\n",
            "2024-02-01 1,109,757,967.10 1,171,761,536.00   62,003,568.90         5.59\n",
            "2024-03-01 1,159,799,338.62 1,195,463,040.00   35,663,701.38         3.07\n",
            "2024-04-01 1,192,436,716.72 1,221,709,440.00   29,272,723.28         2.45\n",
            "2024-05-01 1,324,659,034.55 1,253,148,800.00  -71,510,234.55        -5.40\n",
            "2024-06-01 1,244,527,061.21 1,298,524,672.00   53,997,610.79         4.34\n",
            "2024-07-01 1,273,043,403.41 1,315,542,656.00   42,499,252.59         3.34\n",
            "2024-08-01 1,280,966,106.20 1,306,037,376.00   25,071,269.80         1.96\n",
            "2024-09-01 1,619,671,966.07 1,284,399,488.00 -335,272,478.07       -20.70\n",
            "2024-10-01 1,301,597,591.80 1,355,331,968.00   53,734,376.20         4.13\n",
            "2024-11-01 1,421,505,081.60 1,358,640,000.00  -62,865,081.60        -4.42\n",
            "2024-12-01 1,375,183,385.17 1,337,011,072.00  -38,172,313.17        -2.78\n"
          ]
        }
      ]
    },
    {
      "cell_type": "markdown",
      "source": [
        "# Previsão 2025\n",
        "\n",
        "Aplica o melhor modelo para prever os meses de janeiro à abril de 2025."
      ],
      "metadata": {
        "id": "beB6G2rBhN_2"
      }
    },
    {
      "cell_type": "code",
      "source": [
        "import numpy as np\n",
        "from tensorflow.keras.models import load_model\n",
        "import pandas as pd\n",
        "\n",
        "# 1. Carregar o melhor modelo\n",
        "melhor_modelo = load_model('melhor_modelo.h5', compile=False)\n",
        "\n",
        "# 2. Obter os últimos n_steps valores antes de jan/2025\n",
        "ultimos_dados = dadosPrev['Valor'][-n_steps:].values.reshape(-1, 1)\n",
        "entrada = scaler.transform(ultimos_dados)\n",
        "\n",
        "# 3. Prever os 4 próximos meses (jan-abr/2025) iterativamente\n",
        "previsoes_scaled = []\n",
        "entrada_seq = entrada.copy()\n",
        "\n",
        "for _ in range(12):\n",
        "    x_input = entrada_seq.reshape(1, n_steps, 1)\n",
        "    y_pred = melhor_modelo.predict(x_input, verbose=0)\n",
        "    previsoes_scaled.append(y_pred[0][0])\n",
        "\n",
        "    # Atualiza a sequência: remove o primeiro e adiciona o novo valor previsto\n",
        "    entrada_seq = np.append(entrada_seq[1:], y_pred, axis=0)\n",
        "\n",
        "# 4. Inverter a escala para valores reais\n",
        "previsoes_reais = scaler.inverse_transform(np.array(previsoes_scaled).reshape(-1, 1))\n",
        "\n",
        "# 5. Criar datas para o índice\n",
        "datas_previstas = pd.date_range(start='2025-01-01', periods=12, freq='MS')\n",
        "\n",
        "# 6. Criar DataFrame com as previsões\n",
        "df_previsao = pd.DataFrame({\n",
        "    'Data': datas_previstas,\n",
        "    'Previsão': previsoes_reais.flatten()\n",
        "})\n",
        "df_previsao.set_index('Data', inplace=True)\n",
        "\n",
        "# 7. Mostrar a previsão\n",
        "print(df_previsao)\n",
        "\n",
        "df_previsao.plot(figsize=(10,5), title=\"Série temporal - Dados brutos\")\n",
        "plt.xlabel(\"Ano\")\n",
        "plt.ylabel(\"Valor em bilhões\")\n",
        "plt.grid(True)\n",
        "plt.show()\n"
      ],
      "metadata": {
        "colab": {
          "base_uri": "https://localhost:8080/",
          "height": 782
        },
        "id": "J5tPR5l4hzu0",
        "outputId": "411a0847-8dd1-428a-90c8-5cf6f6298835"
      },
      "execution_count": 34,
      "outputs": [
        {
          "output_type": "stream",
          "name": "stderr",
          "text": [
            "/usr/local/lib/python3.11/dist-packages/sklearn/utils/validation.py:2739: UserWarning: X does not have valid feature names, but MinMaxScaler was fitted with feature names\n",
            "  warnings.warn(\n"
          ]
        },
        {
          "output_type": "stream",
          "name": "stdout",
          "text": [
            "                   Previsão\n",
            "Data                       \n",
            "2025-01-01 1,312,830,464.00\n",
            "2025-02-01 1,279,282,688.00\n",
            "2025-03-01 1,261,702,272.00\n",
            "2025-04-01 1,260,111,616.00\n",
            "2025-05-01 1,275,122,304.00\n",
            "2025-06-01 1,296,390,912.00\n",
            "2025-07-01 1,327,668,096.00\n",
            "2025-08-01 1,357,245,440.00\n",
            "2025-09-01 1,381,668,352.00\n",
            "2025-10-01 1,377,005,440.00\n",
            "2025-11-01 1,377,004,672.00\n",
            "2025-12-01 1,357,951,360.00\n"
          ]
        },
        {
          "output_type": "display_data",
          "data": {
            "text/plain": [
              "<Figure size 1000x500 with 1 Axes>"
            ],
            "image/png": "[encoded data removed]"
          },
          "metadata": {}
        }
      ]
    }
  ]
}